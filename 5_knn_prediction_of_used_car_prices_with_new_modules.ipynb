{
 "cells": [
  {
   "cell_type": "markdown",
   "metadata": {},
   "source": [
    "# 5. Knn prediction of used car prices\n",
    "\n",
    "## Context\n",
    "\n",
    "I have written a from scratch algorithm for k nearest neighbors (knn) classification and tested it out on the Iris and Usedcar datasets very roughly. I wrote some (hopefully) useful helper functions to enable me to more easily clean and 'pivot' the data that I want to use for the KNN regression. Here I will apply those helper functions to work towards getting an output from the regression and looking at first pass accuracy of the predictions.\n",
    "\n",
    "## Work outline\n",
    "\n",
    "I will be updating module code to include new functions from the notebook #4 and adding extension functions to enable predicting a continuous variable. The [used car dataset](https://www.engineeringbigdata.com/wp-content/uploads/usedcars.csv) is from `www.engineeringbigdata.com`.\n",
    "\n",
    "### Steps\n",
    "\n",
    "1. import module from local filepath; load local data file\n",
    "2. clean and 'pivot' data to enable running prediction code\n",
    "3. split the dataset into training and test populations\n",
    "3. run predict_category_from_knn on test set to generate predictions\n",
    "4. find score for algorithm\n",
    "\n",
    "\n",
    "## Result\n",
    "\n",
    "TBD\n",
    "\n",
    "## Next steps\n",
    "\n",
    "Next I will consider how to scale and adjust weights to improve the model predictiveness.\n"
   ]
  },
  {
   "cell_type": "markdown",
   "metadata": {},
   "source": [
    "## 1. import module from local filepath; load local data file\n",
    "\n",
    "Also inspect the dataset to assess which are numerical features and which are categorical features\n"
   ]
  },
  {
   "cell_type": "code",
   "execution_count": 1,
   "metadata": {},
   "outputs": [],
   "source": [
    "from collections import Counter\n",
    "\n",
    "import matplotlib.pyplot as plt\n",
    "import numpy as np\n",
    "\n",
    "from knn_base import euclidean_distance\n",
    "from knn_base import find_k_neighbors\n",
    "from dataset_prep import raw_dataset_csv_to_nested_list\n",
    "from dataset_prep import inspect_types_in_dataset\n",
    "from dataset_prep import cast_numbers_to_float\n",
    "from dataset_prep import split_dataset\n",
    "from dataset_prep import norm_dataset\n",
    "from dataset_prep import standardize_dataset"
   ]
  },
  {
   "cell_type": "code",
   "execution_count": 17,
   "metadata": {},
   "outputs": [],
   "source": [
    "from dataset_prep import pivot_categorical_feature_columns"
   ]
  },
  {
   "cell_type": "code",
   "execution_count": 2,
   "metadata": {},
   "outputs": [],
   "source": [
    "# load raw dataset\n",
    "raw_dataset = raw_dataset_csv_to_nested_list('data/usedcars.csv')"
   ]
  },
  {
   "cell_type": "code",
   "execution_count": 3,
   "metadata": {},
   "outputs": [
    {
     "data": {
      "text/plain": [
       "[['year', 'model', 'price', 'mileage', 'color', 'transmission'],\n",
       " ['2011', 'SEL', '21992', '7413', 'Yellow', 'AUTO'],\n",
       " ['2011', 'SEL', '20995', '10926', 'Gray', 'AUTO'],\n",
       " ['2011', 'SEL', '19995', '7351', 'Silver', 'AUTO'],\n",
       " ['2011', 'SEL', '17809', '11613', 'Gray', 'AUTO']]"
      ]
     },
     "execution_count": 3,
     "metadata": {},
     "output_type": "execute_result"
    }
   ],
   "source": [
    "raw_dataset[:5]"
   ]
  },
  {
   "cell_type": "code",
   "execution_count": 6,
   "metadata": {},
   "outputs": [],
   "source": [
    "raw_dataset_array = np.array(raw_dataset)"
   ]
  },
  {
   "cell_type": "code",
   "execution_count": 7,
   "metadata": {},
   "outputs": [
    {
     "data": {
      "text/plain": [
       "(151, 6)"
      ]
     },
     "execution_count": 7,
     "metadata": {},
     "output_type": "execute_result"
    }
   ],
   "source": [
    "raw_dataset_array.shape"
   ]
  },
  {
   "cell_type": "code",
   "execution_count": 8,
   "metadata": {},
   "outputs": [
    {
     "name": "stdout",
     "output_type": "stream",
     "text": [
      "Counter({<type 'str'>: 151})\n",
      "Counter({<type 'str'>: 151})\n",
      "Counter({<type 'str'>: 151})\n",
      "Counter({<type 'str'>: 151})\n",
      "Counter({<type 'str'>: 151})\n",
      "Counter({<type 'str'>: 151})\n"
     ]
    }
   ],
   "source": [
    "for i in range(raw_dataset_array.shape[1]):\n",
    "    print inspect_types_in_dataset(raw_dataset, i)"
   ]
  },
  {
   "cell_type": "code",
   "execution_count": 9,
   "metadata": {},
   "outputs": [],
   "source": [
    "float_casted_list_dataset = cast_numbers_to_float(raw_dataset)"
   ]
  },
  {
   "cell_type": "code",
   "execution_count": 10,
   "metadata": {},
   "outputs": [
    {
     "name": "stdout",
     "output_type": "stream",
     "text": [
      "Counter({<type 'float'>: 150, <type 'str'>: 1})\n",
      "Counter({<type 'str'>: 151})\n",
      "Counter({<type 'float'>: 150, <type 'str'>: 1})\n",
      "Counter({<type 'float'>: 150, <type 'str'>: 1})\n",
      "Counter({<type 'str'>: 151})\n",
      "Counter({<type 'str'>: 151})\n"
     ]
    }
   ],
   "source": [
    "for i in range(raw_dataset_array.shape[1]):\n",
    "    print inspect_types_in_dataset(float_casted_list_dataset, i)"
   ]
  },
  {
   "cell_type": "markdown",
   "metadata": {},
   "source": [
    "## 2. clean and 'pivot' data to enable running prediction code\n",
    "\n",
    "Also cleanup, pivoting, normalization, and re-assembly the dataset to prepare for applying prediction functions\n"
   ]
  },
  {
   "cell_type": "code",
   "execution_count": 13,
   "metadata": {},
   "outputs": [],
   "source": [
    "# price is the \"objective\" measurement\n",
    "# will move that to the last position\n",
    "num_features = raw_dataset_array[:, (0,3)]"
   ]
  },
  {
   "cell_type": "code",
   "execution_count": 14,
   "metadata": {},
   "outputs": [
    {
     "data": {
      "text/plain": [
       "array([['year', 'mileage'],\n",
       "       ['2011', '7413'],\n",
       "       ['2011', '10926'],\n",
       "       ['2011', '7351'],\n",
       "       ['2011', '11613']], dtype='|S12')"
      ]
     },
     "execution_count": 14,
     "metadata": {},
     "output_type": "execute_result"
    }
   ],
   "source": [
    "num_features[:5]"
   ]
  },
  {
   "cell_type": "code",
   "execution_count": 15,
   "metadata": {},
   "outputs": [],
   "source": [
    "cat_features = raw_dataset_array[:, (1, 4, 5)]"
   ]
  },
  {
   "cell_type": "code",
   "execution_count": 16,
   "metadata": {},
   "outputs": [
    {
     "data": {
      "text/plain": [
       "array([['model', 'color', 'transmission'],\n",
       "       ['SEL', 'Yellow', 'AUTO'],\n",
       "       ['SEL', 'Gray', 'AUTO'],\n",
       "       ['SEL', 'Silver', 'AUTO'],\n",
       "       ['SEL', 'Gray', 'AUTO']], dtype='|S12')"
      ]
     },
     "execution_count": 16,
     "metadata": {},
     "output_type": "execute_result"
    }
   ],
   "source": [
    "cat_features[:5]"
   ]
  },
  {
   "cell_type": "code",
   "execution_count": 18,
   "metadata": {},
   "outputs": [],
   "source": [
    "pivoted_models = pivot_categorical_feature_columns(cat_features, 0)\n",
    "pivoted_colors = pivot_categorical_feature_columns(cat_features, 1)\n",
    "pivoted_transmissions = pivot_categorical_feature_columns(cat_features, 2)"
   ]
  },
  {
   "cell_type": "code",
   "execution_count": 19,
   "metadata": {},
   "outputs": [
    {
     "data": {
      "text/plain": [
       "[['SE', 'SES', 'SEL'],\n",
       " [0.0, 0.0, 1.0],\n",
       " [0.0, 0.0, 1.0],\n",
       " [0.0, 0.0, 1.0],\n",
       " [0.0, 0.0, 1.0]]"
      ]
     },
     "execution_count": 19,
     "metadata": {},
     "output_type": "execute_result"
    }
   ],
   "source": [
    "pivoted_models[:5]"
   ]
  },
  {
   "cell_type": "code",
   "execution_count": 20,
   "metadata": {},
   "outputs": [
    {
     "data": {
      "text/plain": [
       "[['Black',\n",
       "  'Silver',\n",
       "  'Red',\n",
       "  'Blue',\n",
       "  'Gray',\n",
       "  'White',\n",
       "  'Green',\n",
       "  'Yellow',\n",
       "  'Gold'],\n",
       " [0.0, 0.0, 0.0, 0.0, 0.0, 0.0, 0.0, 1.0, 0.0],\n",
       " [0.0, 0.0, 0.0, 0.0, 1.0, 0.0, 0.0, 0.0, 0.0],\n",
       " [0.0, 1.0, 0.0, 0.0, 0.0, 0.0, 0.0, 0.0, 0.0],\n",
       " [0.0, 0.0, 0.0, 0.0, 1.0, 0.0, 0.0, 0.0, 0.0]]"
      ]
     },
     "execution_count": 20,
     "metadata": {},
     "output_type": "execute_result"
    }
   ],
   "source": [
    "pivoted_colors[:5]"
   ]
  },
  {
   "cell_type": "code",
   "execution_count": 21,
   "metadata": {},
   "outputs": [
    {
     "data": {
      "text/plain": [
       "[['AUTO', 'MANUAL'], [1.0, 0.0], [1.0, 0.0], [1.0, 0.0], [1.0, 0.0]]"
      ]
     },
     "execution_count": 21,
     "metadata": {},
     "output_type": "execute_result"
    }
   ],
   "source": [
    "pivoted_transmissions[:5]"
   ]
  },
  {
   "cell_type": "code",
   "execution_count": 22,
   "metadata": {},
   "outputs": [
    {
     "data": {
      "text/plain": [
       "150"
      ]
     },
     "execution_count": 22,
     "metadata": {},
     "output_type": "execute_result"
    }
   ],
   "source": [
    "len(num_features[1:])"
   ]
  },
  {
   "cell_type": "code",
   "execution_count": 23,
   "metadata": {},
   "outputs": [
    {
     "data": {
      "text/plain": [
       "array([[ 2011.,  7413.],\n",
       "       [ 2011., 10926.],\n",
       "       [ 2011.,  7351.],\n",
       "       [ 2011., 11613.],\n",
       "       [ 2012.,  8367.]])"
      ]
     },
     "execution_count": 23,
     "metadata": {},
     "output_type": "execute_result"
    }
   ],
   "source": [
    "num_features[1:].astype(np.float)[:5]"
   ]
  },
  {
   "cell_type": "code",
   "execution_count": 24,
   "metadata": {},
   "outputs": [],
   "source": [
    "# have to remember that the 'post-cast-to-float' arrays won't have headers\n",
    "norm_num_features = norm_dataset(num_features[1:].astype(np.float), 2)"
   ]
  },
  {
   "cell_type": "code",
   "execution_count": 25,
   "metadata": {},
   "outputs": [
    {
     "data": {
      "text/plain": [
       "array([[0.91666667, 0.01736556],\n",
       "       [0.91666667, 0.04132677],\n",
       "       [0.91666667, 0.01694268],\n",
       "       [0.91666667, 0.0460126 ],\n",
       "       [1.        , 0.02387253]])"
      ]
     },
     "execution_count": 25,
     "metadata": {},
     "output_type": "execute_result"
    }
   ],
   "source": [
    "norm_num_features[:5]"
   ]
  },
  {
   "cell_type": "code",
   "execution_count": 26,
   "metadata": {},
   "outputs": [],
   "source": [
    "std_num_features = standardize_dataset(num_features[1:].astype(np.float), 2)"
   ]
  },
  {
   "cell_type": "code",
   "execution_count": 27,
   "metadata": {},
   "outputs": [
    {
     "data": {
      "text/plain": [
       "array([[ 1.03634013, -1.3702078 ],\n",
       "       [ 1.03634013, -1.23957422],\n",
       "       [ 1.03634013, -1.37251331],\n",
       "       [ 1.03634013, -1.2140276 ],\n",
       "       [ 1.49220822, -1.33473258]])"
      ]
     },
     "execution_count": 27,
     "metadata": {},
     "output_type": "execute_result"
    }
   ],
   "source": [
    "std_num_features[:5]"
   ]
  },
  {
   "cell_type": "markdown",
   "metadata": {},
   "source": [
    "#### Putting the data back together as non-header, numerical feature data in three sets\n",
    "\n",
    "Worth plotting some of the data at this point as well\n",
    "\n",
    "**Key attributes:**\n",
    "\n",
    "1. The column order is always consistent\n",
    "    * model_year\n",
    "    * mileage\n",
    "    * transmissions (AUTO, MANUAL)\n",
    "    * model_type (SE, SES, SEL)\n",
    "    * colors (in consistent order) \n",
    "2. The 'objective' (price) is in the final column\n",
    "3. No headers in the dataset (numpy needs consistent types in array)\n",
    "4. Will have three versions of the same data\n",
    "    "
   ]
  },
  {
   "cell_type": "code",
   "execution_count": 29,
   "metadata": {},
   "outputs": [
    {
     "ename": "ValueError",
     "evalue": "all the input arrays must have same number of dimensions",
     "output_type": "error",
     "traceback": [
      "\u001b[0;31m---------------------------------------------------------------------------\u001b[0m",
      "\u001b[0;31mValueError\u001b[0m                                Traceback (most recent call last)",
      "\u001b[0;32m<ipython-input-29-05e9963ab37b>\u001b[0m in \u001b[0;36m<module>\u001b[0;34m()\u001b[0m\n\u001b[1;32m      6\u001b[0m      \u001b[0mraw_dataset_array\u001b[0m\u001b[0;34m[\u001b[0m\u001b[0;36m1\u001b[0m\u001b[0;34m:\u001b[0m\u001b[0;34m,\u001b[0m \u001b[0;36m2\u001b[0m\u001b[0;34m]\u001b[0m\u001b[0;34m.\u001b[0m\u001b[0mastype\u001b[0m\u001b[0;34m(\u001b[0m\u001b[0mnp\u001b[0m\u001b[0;34m.\u001b[0m\u001b[0mfloat\u001b[0m\u001b[0;34m)\u001b[0m\u001b[0;34m\u001b[0m\u001b[0m\n\u001b[1;32m      7\u001b[0m     ),\n\u001b[0;32m----> 8\u001b[0;31m     \u001b[0maxis\u001b[0m\u001b[0;34m=\u001b[0m\u001b[0;36m1\u001b[0m\u001b[0;34m\u001b[0m\u001b[0m\n\u001b[0m\u001b[1;32m      9\u001b[0m )\n",
      "\u001b[0;31mValueError\u001b[0m: all the input arrays must have same number of dimensions"
     ]
    }
   ],
   "source": [
    "no_scaling_pivoted_dataset = np.concatenate(\n",
    "    (num_features[1:, :].astype(np.float),\n",
    "     np.array(pivoted_transmissions[1:]),\n",
    "     np.array(pivoted_models[1:]),\n",
    "     np.array(pivoted_colors[1:]),\n",
    "     raw_dataset_array[1:, 2].astype(np.float)\n",
    "    ),\n",
    "    axis=1 \n",
    ")"
   ]
  },
  {
   "cell_type": "code",
   "execution_count": 30,
   "metadata": {},
   "outputs": [
    {
     "data": {
      "text/plain": [
       "(150, 2)"
      ]
     },
     "execution_count": 30,
     "metadata": {},
     "output_type": "execute_result"
    }
   ],
   "source": [
    "num_features[1:, :].astype(np.float).shape"
   ]
  },
  {
   "cell_type": "code",
   "execution_count": 32,
   "metadata": {},
   "outputs": [
    {
     "data": {
      "text/plain": [
       "(150, 2)"
      ]
     },
     "execution_count": 32,
     "metadata": {},
     "output_type": "execute_result"
    }
   ],
   "source": [
    "np.array(pivoted_transmissions[1:]).shape"
   ]
  },
  {
   "cell_type": "code",
   "execution_count": 33,
   "metadata": {},
   "outputs": [
    {
     "data": {
      "text/plain": [
       "(150, 3)"
      ]
     },
     "execution_count": 33,
     "metadata": {},
     "output_type": "execute_result"
    }
   ],
   "source": [
    "np.array(pivoted_models[1:]).shape"
   ]
  },
  {
   "cell_type": "code",
   "execution_count": 34,
   "metadata": {},
   "outputs": [
    {
     "data": {
      "text/plain": [
       "(150, 9)"
      ]
     },
     "execution_count": 34,
     "metadata": {},
     "output_type": "execute_result"
    }
   ],
   "source": [
    "np.array(pivoted_colors[1:]).shape"
   ]
  },
  {
   "cell_type": "code",
   "execution_count": 35,
   "metadata": {},
   "outputs": [
    {
     "data": {
      "text/plain": [
       "(150,)"
      ]
     },
     "execution_count": 35,
     "metadata": {},
     "output_type": "execute_result"
    }
   ],
   "source": [
    "raw_dataset_array[1:, 2].astype(np.float).shape"
   ]
  },
  {
   "cell_type": "code",
   "execution_count": 39,
   "metadata": {},
   "outputs": [
    {
     "data": {
      "text/plain": [
       "(150, 0)"
      ]
     },
     "execution_count": 39,
     "metadata": {},
     "output_type": "execute_result"
    }
   ],
   "source": [
    "raw_dataset_array[1:, 2:2].astype(np.float).shape"
   ]
  },
  {
   "cell_type": "code",
   "execution_count": 43,
   "metadata": {},
   "outputs": [
    {
     "data": {
      "text/plain": [
       "array([['21992'],\n",
       "       ['20995'],\n",
       "       ['19995'],\n",
       "       ['17809'],\n",
       "       ['17500']], dtype='|S12')"
      ]
     },
     "execution_count": 43,
     "metadata": {},
     "output_type": "execute_result"
    }
   ],
   "source": [
    "raw_dataset_array[1:, 2:3][:5]"
   ]
  },
  {
   "cell_type": "code",
   "execution_count": 44,
   "metadata": {},
   "outputs": [],
   "source": [
    "no_scaling_pivoted_dataset = np.concatenate(\n",
    "    (num_features[1:, :].astype(np.float),\n",
    "     np.array(pivoted_transmissions[1:]),\n",
    "     np.array(pivoted_models[1:]),\n",
    "     np.array(pivoted_colors[1:]),\n",
    "     raw_dataset_array[1:, 2:3].astype(np.float)\n",
    "    ),\n",
    "    axis=1 \n",
    ")"
   ]
  },
  {
   "cell_type": "code",
   "execution_count": 45,
   "metadata": {},
   "outputs": [
    {
     "data": {
      "text/plain": [
       "array([[2.0110e+03, 7.4130e+03, 1.0000e+00, 0.0000e+00, 0.0000e+00,\n",
       "        0.0000e+00, 1.0000e+00, 0.0000e+00, 0.0000e+00, 0.0000e+00,\n",
       "        0.0000e+00, 0.0000e+00, 0.0000e+00, 0.0000e+00, 1.0000e+00,\n",
       "        0.0000e+00, 2.1992e+04],\n",
       "       [2.0110e+03, 1.0926e+04, 1.0000e+00, 0.0000e+00, 0.0000e+00,\n",
       "        0.0000e+00, 1.0000e+00, 0.0000e+00, 0.0000e+00, 0.0000e+00,\n",
       "        0.0000e+00, 1.0000e+00, 0.0000e+00, 0.0000e+00, 0.0000e+00,\n",
       "        0.0000e+00, 2.0995e+04],\n",
       "       [2.0110e+03, 7.3510e+03, 1.0000e+00, 0.0000e+00, 0.0000e+00,\n",
       "        0.0000e+00, 1.0000e+00, 0.0000e+00, 1.0000e+00, 0.0000e+00,\n",
       "        0.0000e+00, 0.0000e+00, 0.0000e+00, 0.0000e+00, 0.0000e+00,\n",
       "        0.0000e+00, 1.9995e+04],\n",
       "       [2.0110e+03, 1.1613e+04, 1.0000e+00, 0.0000e+00, 0.0000e+00,\n",
       "        0.0000e+00, 1.0000e+00, 0.0000e+00, 0.0000e+00, 0.0000e+00,\n",
       "        0.0000e+00, 1.0000e+00, 0.0000e+00, 0.0000e+00, 0.0000e+00,\n",
       "        0.0000e+00, 1.7809e+04],\n",
       "       [2.0120e+03, 8.3670e+03, 1.0000e+00, 0.0000e+00, 1.0000e+00,\n",
       "        0.0000e+00, 0.0000e+00, 0.0000e+00, 0.0000e+00, 0.0000e+00,\n",
       "        0.0000e+00, 0.0000e+00, 1.0000e+00, 0.0000e+00, 0.0000e+00,\n",
       "        0.0000e+00, 1.7500e+04]])"
      ]
     },
     "execution_count": 45,
     "metadata": {},
     "output_type": "execute_result"
    }
   ],
   "source": [
    "no_scaling_pivoted_dataset[:5]"
   ]
  },
  {
   "cell_type": "code",
   "execution_count": 47,
   "metadata": {},
   "outputs": [
    {
     "data": {
      "text/plain": [
       "(149, 2)"
      ]
     },
     "execution_count": 47,
     "metadata": {},
     "output_type": "execute_result"
    }
   ],
   "source": [
    "norm_num_features[1:, :].shape"
   ]
  },
  {
   "cell_type": "code",
   "execution_count": 48,
   "metadata": {},
   "outputs": [],
   "source": [
    "norm_scaling_pivoted_dataset = np.concatenate(\n",
    "    (norm_num_features.astype(np.float),\n",
    "     np.array(pivoted_transmissions[1:]),\n",
    "     np.array(pivoted_models[1:]),\n",
    "     np.array(pivoted_colors[1:]),\n",
    "     raw_dataset_array[1:, 2:3].astype(np.float)\n",
    "    ),\n",
    "    axis=1 \n",
    ")"
   ]
  },
  {
   "cell_type": "code",
   "execution_count": 49,
   "metadata": {},
   "outputs": [
    {
     "data": {
      "text/plain": [
       "array([[9.16666667e-01, 1.73655635e-02, 1.00000000e+00, 0.00000000e+00,\n",
       "        0.00000000e+00, 0.00000000e+00, 1.00000000e+00, 0.00000000e+00,\n",
       "        0.00000000e+00, 0.00000000e+00, 0.00000000e+00, 0.00000000e+00,\n",
       "        0.00000000e+00, 0.00000000e+00, 1.00000000e+00, 0.00000000e+00,\n",
       "        2.19920000e+04],\n",
       "       [9.16666667e-01, 4.13267672e-02, 1.00000000e+00, 0.00000000e+00,\n",
       "        0.00000000e+00, 0.00000000e+00, 1.00000000e+00, 0.00000000e+00,\n",
       "        0.00000000e+00, 0.00000000e+00, 0.00000000e+00, 1.00000000e+00,\n",
       "        0.00000000e+00, 0.00000000e+00, 0.00000000e+00, 0.00000000e+00,\n",
       "        2.09950000e+04],\n",
       "       [9.16666667e-01, 1.69426786e-02, 1.00000000e+00, 0.00000000e+00,\n",
       "        0.00000000e+00, 0.00000000e+00, 1.00000000e+00, 0.00000000e+00,\n",
       "        1.00000000e+00, 0.00000000e+00, 0.00000000e+00, 0.00000000e+00,\n",
       "        0.00000000e+00, 0.00000000e+00, 0.00000000e+00, 0.00000000e+00,\n",
       "        1.99950000e+04],\n",
       "       [9.16666667e-01, 4.60126047e-02, 1.00000000e+00, 0.00000000e+00,\n",
       "        0.00000000e+00, 0.00000000e+00, 1.00000000e+00, 0.00000000e+00,\n",
       "        0.00000000e+00, 0.00000000e+00, 0.00000000e+00, 1.00000000e+00,\n",
       "        0.00000000e+00, 0.00000000e+00, 0.00000000e+00, 0.00000000e+00,\n",
       "        1.78090000e+04],\n",
       "       [1.00000000e+00, 2.38725343e-02, 1.00000000e+00, 0.00000000e+00,\n",
       "        1.00000000e+00, 0.00000000e+00, 0.00000000e+00, 0.00000000e+00,\n",
       "        0.00000000e+00, 0.00000000e+00, 0.00000000e+00, 0.00000000e+00,\n",
       "        1.00000000e+00, 0.00000000e+00, 0.00000000e+00, 0.00000000e+00,\n",
       "        1.75000000e+04]])"
      ]
     },
     "execution_count": 49,
     "metadata": {},
     "output_type": "execute_result"
    }
   ],
   "source": [
    "norm_scaling_pivoted_dataset[:5]"
   ]
  },
  {
   "cell_type": "code",
   "execution_count": 50,
   "metadata": {},
   "outputs": [],
   "source": [
    "std_scaling_pivoted_dataset = np.concatenate(\n",
    "    (std_num_features.astype(np.float),\n",
    "     np.array(pivoted_transmissions[1:]),\n",
    "     np.array(pivoted_models[1:]),\n",
    "     np.array(pivoted_colors[1:]),\n",
    "     raw_dataset_array[1:, 2:3].astype(np.float)\n",
    "    ),\n",
    "    axis=1 \n",
    ")"
   ]
  },
  {
   "cell_type": "code",
   "execution_count": 51,
   "metadata": {},
   "outputs": [
    {
     "data": {
      "text/plain": [
       "array([[ 1.03634013e+00, -1.37020780e+00,  1.00000000e+00,\n",
       "         0.00000000e+00,  0.00000000e+00,  0.00000000e+00,\n",
       "         1.00000000e+00,  0.00000000e+00,  0.00000000e+00,\n",
       "         0.00000000e+00,  0.00000000e+00,  0.00000000e+00,\n",
       "         0.00000000e+00,  0.00000000e+00,  1.00000000e+00,\n",
       "         0.00000000e+00,  2.19920000e+04],\n",
       "       [ 1.03634013e+00, -1.23957422e+00,  1.00000000e+00,\n",
       "         0.00000000e+00,  0.00000000e+00,  0.00000000e+00,\n",
       "         1.00000000e+00,  0.00000000e+00,  0.00000000e+00,\n",
       "         0.00000000e+00,  0.00000000e+00,  1.00000000e+00,\n",
       "         0.00000000e+00,  0.00000000e+00,  0.00000000e+00,\n",
       "         0.00000000e+00,  2.09950000e+04],\n",
       "       [ 1.03634013e+00, -1.37251331e+00,  1.00000000e+00,\n",
       "         0.00000000e+00,  0.00000000e+00,  0.00000000e+00,\n",
       "         1.00000000e+00,  0.00000000e+00,  1.00000000e+00,\n",
       "         0.00000000e+00,  0.00000000e+00,  0.00000000e+00,\n",
       "         0.00000000e+00,  0.00000000e+00,  0.00000000e+00,\n",
       "         0.00000000e+00,  1.99950000e+04],\n",
       "       [ 1.03634013e+00, -1.21402760e+00,  1.00000000e+00,\n",
       "         0.00000000e+00,  0.00000000e+00,  0.00000000e+00,\n",
       "         1.00000000e+00,  0.00000000e+00,  0.00000000e+00,\n",
       "         0.00000000e+00,  0.00000000e+00,  1.00000000e+00,\n",
       "         0.00000000e+00,  0.00000000e+00,  0.00000000e+00,\n",
       "         0.00000000e+00,  1.78090000e+04],\n",
       "       [ 1.49220822e+00, -1.33473258e+00,  1.00000000e+00,\n",
       "         0.00000000e+00,  1.00000000e+00,  0.00000000e+00,\n",
       "         0.00000000e+00,  0.00000000e+00,  0.00000000e+00,\n",
       "         0.00000000e+00,  0.00000000e+00,  0.00000000e+00,\n",
       "         1.00000000e+00,  0.00000000e+00,  0.00000000e+00,\n",
       "         0.00000000e+00,  1.75000000e+04]])"
      ]
     },
     "execution_count": 51,
     "metadata": {},
     "output_type": "execute_result"
    }
   ],
   "source": [
    "std_scaling_pivoted_dataset[:5]"
   ]
  },
  {
   "cell_type": "code",
   "execution_count": 52,
   "metadata": {},
   "outputs": [
    {
     "data": {
      "text/plain": [
       "(150, 17)"
      ]
     },
     "execution_count": 52,
     "metadata": {},
     "output_type": "execute_result"
    }
   ],
   "source": [
    "no_scaling_pivoted_dataset.shape"
   ]
  },
  {
   "cell_type": "code",
   "execution_count": 53,
   "metadata": {},
   "outputs": [
    {
     "data": {
      "text/plain": [
       "(150, 17)"
      ]
     },
     "execution_count": 53,
     "metadata": {},
     "output_type": "execute_result"
    }
   ],
   "source": [
    "norm_scaling_pivoted_dataset.shape"
   ]
  },
  {
   "cell_type": "code",
   "execution_count": 57,
   "metadata": {},
   "outputs": [
    {
     "data": {
      "image/png": "[encoded data removed]",
      "text/plain": [
       "<Figure size 432x288 with 1 Axes>"
      ]
     },
     "metadata": {
      "needs_background": "light"
     },
     "output_type": "display_data"
    }
   ],
   "source": [
    "(n, bins) = np.histogram(no_scaling_pivoted_dataset[:, 16], bins=10)\n",
    "plt.plot(.5*(bins[1:]+bins[:-1]), n)\n",
    "plt.show()"
   ]
  },
  {
   "cell_type": "code",
   "execution_count": 60,
   "metadata": {},
   "outputs": [],
   "source": [
    "header = raw_dataset[0][:2] + pivoted_transmissions[0] + pivoted_models[0] + pivoted_colors[0] + [raw_dataset[0][2]]"
   ]
  },
  {
   "cell_type": "code",
   "execution_count": 61,
   "metadata": {},
   "outputs": [
    {
     "data": {
      "text/plain": [
       "['year',\n",
       " 'model',\n",
       " 'AUTO',\n",
       " 'MANUAL',\n",
       " 'SE',\n",
       " 'SES',\n",
       " 'SEL',\n",
       " 'Black',\n",
       " 'Silver',\n",
       " 'Red',\n",
       " 'Blue',\n",
       " 'Gray',\n",
       " 'White',\n",
       " 'Green',\n",
       " 'Yellow',\n",
       " 'Gold',\n",
       " 'price']"
      ]
     },
     "execution_count": 61,
     "metadata": {},
     "output_type": "execute_result"
    }
   ],
   "source": [
    "header"
   ]
  },
  {
   "cell_type": "code",
   "execution_count": 62,
   "metadata": {},
   "outputs": [
    {
     "data": {
      "text/plain": [
       "17"
      ]
     },
     "execution_count": 62,
     "metadata": {},
     "output_type": "execute_result"
    }
   ],
   "source": [
    "len(header)"
   ]
  },
  {
   "cell_type": "code",
   "execution_count": 66,
   "metadata": {},
   "outputs": [],
   "source": [
    "def plot_histogram_mplib(dataset_array, header, index, bins=10):\n",
    "    \"\"\"helper function to quickly plot histograms from dataset\n",
    "    \"\"\"\n",
    "    (n, bins) = np.histogram(dataset_array[:, index], bins=bins)\n",
    "    plt.plot(.5*(bins[1:]+bins[:-1]), n)\n",
    "    plt.xlabel(header[index])\n",
    "    plt.ylabel(\"frequency\")\n",
    "    plt.show()\n",
    "    "
   ]
  },
  {
   "cell_type": "code",
   "execution_count": 67,
   "metadata": {},
   "outputs": [
    {
     "data": {
      "image/png": "[encoded data removed]",
      "text/plain": [
       "<Figure size 432x288 with 1 Axes>"
      ]
     },
     "metadata": {
      "needs_background": "light"
     },
     "output_type": "display_data"
    }
   ],
   "source": [
    "plot_histogram_mplib(\n",
    "    no_scaling_pivoted_dataset,\n",
    "    header,\n",
    "    16\n",
    ")"
   ]
  },
  {
   "cell_type": "code",
   "execution_count": 68,
   "metadata": {},
   "outputs": [
    {
     "data": {
      "image/png": "[encoded data removed]",
      "text/plain": [
       "<Figure size 432x288 with 1 Axes>"
      ]
     },
     "metadata": {
      "needs_background": "light"
     },
     "output_type": "display_data"
    }
   ],
   "source": [
    "plot_histogram_mplib(\n",
    "    no_scaling_pivoted_dataset,\n",
    "    header,\n",
    "    0\n",
    ")"
   ]
  },
  {
   "cell_type": "code",
   "execution_count": 69,
   "metadata": {},
   "outputs": [
    {
     "data": {
      "image/png": "[encoded data removed]",
      "text/plain": [
       "<Figure size 432x288 with 1 Axes>"
      ]
     },
     "metadata": {
      "needs_background": "light"
     },
     "output_type": "display_data"
    }
   ],
   "source": [
    "plot_histogram_mplib(\n",
    "    no_scaling_pivoted_dataset,\n",
    "    header,\n",
    "    1\n",
    ")"
   ]
  },
  {
   "cell_type": "code",
   "execution_count": 70,
   "metadata": {},
   "outputs": [
    {
     "data": {
      "image/png": "[encoded data removed]",
      "text/plain": [
       "<Figure size 432x288 with 1 Axes>"
      ]
     },
     "metadata": {
      "needs_background": "light"
     },
     "output_type": "display_data"
    }
   ],
   "source": [
    "plot_histogram_mplib(\n",
    "    no_scaling_pivoted_dataset,\n",
    "    header,\n",
    "    2\n",
    ")"
   ]
  },
  {
   "cell_type": "code",
   "execution_count": 71,
   "metadata": {},
   "outputs": [
    {
     "data": {
      "image/png": "[encoded data removed]",
      "text/plain": [
       "<Figure size 432x288 with 1 Axes>"
      ]
     },
     "metadata": {
      "needs_background": "light"
     },
     "output_type": "display_data"
    }
   ],
   "source": [
    "plot_histogram_mplib(\n",
    "    no_scaling_pivoted_dataset,\n",
    "    header,\n",
    "    3\n",
    ")"
   ]
  },
  {
   "cell_type": "code",
   "execution_count": 72,
   "metadata": {},
   "outputs": [
    {
     "data": {
      "image/png": "[encoded data removed]",
      "text/plain": [
       "<Figure size 432x288 with 1 Axes>"
      ]
     },
     "metadata": {
      "needs_background": "light"
     },
     "output_type": "display_data"
    }
   ],
   "source": [
    "plot_histogram_mplib(\n",
    "    no_scaling_pivoted_dataset,\n",
    "    header,\n",
    "    4\n",
    ")"
   ]
  },
  {
   "cell_type": "code",
   "execution_count": 73,
   "metadata": {},
   "outputs": [
    {
     "data": {
      "image/png": "[encoded data removed]",
      "text/plain": [
       "<Figure size 432x288 with 1 Axes>"
      ]
     },
     "metadata": {
      "needs_background": "light"
     },
     "output_type": "display_data"
    }
   ],
   "source": [
    "plot_histogram_mplib(\n",
    "    norm_scaling_pivoted_dataset,\n",
    "    header,\n",
    "    0\n",
    ")"
   ]
  },
  {
   "cell_type": "code",
   "execution_count": 74,
   "metadata": {},
   "outputs": [
    {
     "data": {
      "image/png": "[encoded data removed]",
      "text/plain": [
       "<Figure size 432x288 with 1 Axes>"
      ]
     },
     "metadata": {
      "needs_background": "light"
     },
     "output_type": "display_data"
    }
   ],
   "source": [
    "plot_histogram_mplib(\n",
    "    norm_scaling_pivoted_dataset,\n",
    "    header,\n",
    "    1\n",
    ")"
   ]
  },
  {
   "cell_type": "code",
   "execution_count": 75,
   "metadata": {},
   "outputs": [
    {
     "data": {
      "image/png": "[encoded data removed]",
      "text/plain": [
       "<Figure size 432x288 with 1 Axes>"
      ]
     },
     "metadata": {
      "needs_background": "light"
     },
     "output_type": "display_data"
    }
   ],
   "source": [
    "plot_histogram_mplib(\n",
    "    std_scaling_pivoted_dataset,\n",
    "    header,\n",
    "    0\n",
    ")"
   ]
  },
  {
   "cell_type": "code",
   "execution_count": 76,
   "metadata": {},
   "outputs": [
    {
     "data": {
      "image/png": "[encoded data removed]",
      "text/plain": [
       "<Figure size 432x288 with 1 Axes>"
      ]
     },
     "metadata": {
      "needs_background": "light"
     },
     "output_type": "display_data"
    }
   ],
   "source": [
    "plot_histogram_mplib(\n",
    "    std_scaling_pivoted_dataset,\n",
    "    header,\n",
    "    1\n",
    ")"
   ]
  },
  {
   "cell_type": "code",
   "execution_count": 77,
   "metadata": {},
   "outputs": [],
   "source": [
    "def quick_2x2_plot(dataset_array, header, indices):\n",
    "    \"\"\"helper function to quickly look at 2x2 of variables in dataset\n",
    "    \"\"\"\n",
    "    plt.scatter(\n",
    "        dataset_array[:, indices[0]].astype(float),\n",
    "        dataset_array[:, indices[1]].astype(float)\n",
    "    )\n",
    "    plt.xlabel(header[indices[0]])\n",
    "    plt.ylabel(header[indices[1]])\n",
    "    plt.show()"
   ]
  },
  {
   "cell_type": "code",
   "execution_count": 78,
   "metadata": {},
   "outputs": [
    {
     "data": {
      "image/png": "[encoded data removed]",
      "text/plain": [
       "<Figure size 432x288 with 1 Axes>"
      ]
     },
     "metadata": {
      "needs_background": "light"
     },
     "output_type": "display_data"
    }
   ],
   "source": [
    "quick_2x2_plot(no_scaling_pivoted_dataset,\n",
    "    header,\n",
    "    (0,16))"
   ]
  },
  {
   "cell_type": "code",
   "execution_count": 79,
   "metadata": {},
   "outputs": [
    {
     "data": {
      "image/png": "[encoded data removed]",
      "text/plain": [
       "<Figure size 432x288 with 1 Axes>"
      ]
     },
     "metadata": {
      "needs_background": "light"
     },
     "output_type": "display_data"
    }
   ],
   "source": [
    "quick_2x2_plot(no_scaling_pivoted_dataset,\n",
    "    header,\n",
    "    (1,16))"
   ]
  },
  {
   "cell_type": "code",
   "execution_count": 80,
   "metadata": {},
   "outputs": [
    {
     "data": {
      "image/png": "[encoded data removed]",
      "text/plain": [
       "<Figure size 432x288 with 1 Axes>"
      ]
     },
     "metadata": {
      "needs_background": "light"
     },
     "output_type": "display_data"
    }
   ],
   "source": [
    "quick_2x2_plot(no_scaling_pivoted_dataset,\n",
    "    header,\n",
    "    (2,16))"
   ]
  },
  {
   "cell_type": "code",
   "execution_count": 81,
   "metadata": {},
   "outputs": [
    {
     "data": {
      "image/png": "[encoded data removed]",
      "text/plain": [
       "<Figure size 432x288 with 1 Axes>"
      ]
     },
     "metadata": {
      "needs_background": "light"
     },
     "output_type": "display_data"
    }
   ],
   "source": [
    "quick_2x2_plot(no_scaling_pivoted_dataset,\n",
    "    header,\n",
    "    (3,16))"
   ]
  },
  {
   "cell_type": "code",
   "execution_count": 82,
   "metadata": {},
   "outputs": [
    {
     "data": {
      "image/png": "[encoded data removed]",
      "text/plain": [
       "<Figure size 432x288 with 1 Axes>"
      ]
     },
     "metadata": {
      "needs_background": "light"
     },
     "output_type": "display_data"
    }
   ],
   "source": [
    "quick_2x2_plot(no_scaling_pivoted_dataset,\n",
    "    header,\n",
    "    (4,16))"
   ]
  },
  {
   "cell_type": "code",
   "execution_count": 83,
   "metadata": {},
   "outputs": [
    {
     "data": {
      "image/png": "[encoded data removed]",
      "text/plain": [
       "<Figure size 432x288 with 1 Axes>"
      ]
     },
     "metadata": {
      "needs_background": "light"
     },
     "output_type": "display_data"
    }
   ],
   "source": [
    "quick_2x2_plot(no_scaling_pivoted_dataset,\n",
    "    header,\n",
    "    (15,16))"
   ]
  },
  {
   "cell_type": "code",
   "execution_count": 84,
   "metadata": {},
   "outputs": [
    {
     "data": {
      "image/png": "[encoded data removed]",
      "text/plain": [
       "<Figure size 432x288 with 1 Axes>"
      ]
     },
     "metadata": {
      "needs_background": "light"
     },
     "output_type": "display_data"
    }
   ],
   "source": [
    "quick_2x2_plot(norm_scaling_pivoted_dataset,\n",
    "    header,\n",
    "    (1,16))"
   ]
  },
  {
   "cell_type": "markdown",
   "metadata": {},
   "source": [
    "## Have the distinct suspicion that scaling the mileage will lead to worse predictions\n",
    "\n",
    "Let's test that hypothesis!\n",
    "\n",
    "Also [this](https://python-graph-gallery.com/110-basic-correlation-matrix-with-seaborn/) leads me to believe that I should be using the `seaborn` pairplot to visualize all the above things. Worth learning the more root way of building the plots at least once, I guess.\n",
    "\n",
    "#### quick thought\n",
    "\n",
    "It occurs to me that I should save the non-scaled, pivoted dataset to CSV so I can revisit without re-processing the data."
   ]
  },
  {
   "cell_type": "code",
   "execution_count": 86,
   "metadata": {},
   "outputs": [],
   "source": [
    "to_print_array = np.concatenate(\n",
    "    (np.array([header]), no_scaling_pivoted_dataset.astype(np.str)),\n",
    "    axis=0\n",
    ")"
   ]
  },
  {
   "cell_type": "code",
   "execution_count": 87,
   "metadata": {},
   "outputs": [
    {
     "data": {
      "text/plain": [
       "array([['year', 'model', 'AUTO', 'MANUAL', 'SE', 'SES', 'SEL', 'Black',\n",
       "        'Silver', 'Red', 'Blue', 'Gray', 'White', 'Green', 'Yellow',\n",
       "        'Gold', 'price'],\n",
       "       ['2011.0', '7413.0', '1.0', '0.0', '0.0', '0.0', '1.0', '0.0',\n",
       "        '0.0', '0.0', '0.0', '0.0', '0.0', '0.0', '1.0', '0.0',\n",
       "        '21992.0'],\n",
       "       ['2011.0', '10926.0', '1.0', '0.0', '0.0', '0.0', '1.0', '0.0',\n",
       "        '0.0', '0.0', '0.0', '1.0', '0.0', '0.0', '0.0', '0.0',\n",
       "        '20995.0'],\n",
       "       ['2011.0', '7351.0', '1.0', '0.0', '0.0', '0.0', '1.0', '0.0',\n",
       "        '1.0', '0.0', '0.0', '0.0', '0.0', '0.0', '0.0', '0.0',\n",
       "        '19995.0'],\n",
       "       ['2011.0', '11613.0', '1.0', '0.0', '0.0', '0.0', '1.0', '0.0',\n",
       "        '0.0', '0.0', '0.0', '1.0', '0.0', '0.0', '0.0', '0.0',\n",
       "        '17809.0']], dtype='|S32')"
      ]
     },
     "execution_count": 87,
     "metadata": {},
     "output_type": "execute_result"
    }
   ],
   "source": [
    "to_print_array[:5]"
   ]
  },
  {
   "cell_type": "code",
   "execution_count": 88,
   "metadata": {},
   "outputs": [
    {
     "ename": "TypeError",
     "evalue": "Mismatch between array dtype ('|S32') and format specifier ('%.18e,%.18e,%.18e,%.18e,%.18e,%.18e,%.18e,%.18e,%.18e,%.18e,%.18e,%.18e,%.18e,%.18e,%.18e,%.18e,%.18e')",
     "output_type": "error",
     "traceback": [
      "\u001b[0;31m---------------------------------------------------------------------------\u001b[0m",
      "\u001b[0;31mTypeError\u001b[0m                                 Traceback (most recent call last)",
      "\u001b[0;32m<ipython-input-88-d1ca2b17da4b>\u001b[0m in \u001b[0;36m<module>\u001b[0;34m()\u001b[0m\n\u001b[0;32m----> 1\u001b[0;31m \u001b[0mnp\u001b[0m\u001b[0;34m.\u001b[0m\u001b[0msavetxt\u001b[0m\u001b[0;34m(\u001b[0m\u001b[0;34m\"pivoted_usedcars.csv\"\u001b[0m\u001b[0;34m,\u001b[0m \u001b[0mto_print_array\u001b[0m\u001b[0;34m,\u001b[0m \u001b[0mdelimiter\u001b[0m\u001b[0;34m=\u001b[0m\u001b[0;34m\",\"\u001b[0m\u001b[0;34m)\u001b[0m\u001b[0;34m\u001b[0m\u001b[0m\n\u001b[0m",
      "\u001b[0;32m/home/siddiqui/Projects/venvs/knn_tutorial/local/lib/python2.7/site-packages/numpy/lib/npyio.pyc\u001b[0m in \u001b[0;36msavetxt\u001b[0;34m(fname, X, fmt, delimiter, newline, header, footer, comments, encoding)\u001b[0m\n\u001b[1;32m   1424\u001b[0m                     raise TypeError(\"Mismatch between array dtype ('%s') and \"\n\u001b[1;32m   1425\u001b[0m                                     \u001b[0;34m\"format specifier ('%s')\"\u001b[0m\u001b[0;34m\u001b[0m\u001b[0m\n\u001b[0;32m-> 1426\u001b[0;31m                                     % (str(X.dtype), format))\n\u001b[0m\u001b[1;32m   1427\u001b[0m                 \u001b[0mfh\u001b[0m\u001b[0;34m.\u001b[0m\u001b[0mwrite\u001b[0m\u001b[0;34m(\u001b[0m\u001b[0mv\u001b[0m\u001b[0;34m)\u001b[0m\u001b[0;34m\u001b[0m\u001b[0m\n\u001b[1;32m   1428\u001b[0m \u001b[0;34m\u001b[0m\u001b[0m\n",
      "\u001b[0;31mTypeError\u001b[0m: Mismatch between array dtype ('|S32') and format specifier ('%.18e,%.18e,%.18e,%.18e,%.18e,%.18e,%.18e,%.18e,%.18e,%.18e,%.18e,%.18e,%.18e,%.18e,%.18e,%.18e,%.18e')"
     ]
    }
   ],
   "source": [
    "np.savetxt(\"pivoted_usedcars.csv\", to_print_array, delimiter=\",\")"
   ]
  },
  {
   "cell_type": "code",
   "execution_count": 89,
   "metadata": {},
   "outputs": [
    {
     "data": {
      "text/plain": [
       "(151, 17)"
      ]
     },
     "execution_count": 89,
     "metadata": {},
     "output_type": "execute_result"
    }
   ],
   "source": [
    "to_print_array.shape"
   ]
  },
  {
   "cell_type": "code",
   "execution_count": 90,
   "metadata": {},
   "outputs": [],
   "source": [
    "np.savetxt(\"pivoted_usedcars.csv\", to_print_array, delimiter=\",\", fmt='%s')"
   ]
  },
  {
   "cell_type": "markdown",
   "metadata": {},
   "source": [
    "## 3. split the dataset into training and test populations\n",
    "\n",
    "I will use the kwarg I put into the `split_dataset` that let's me pass in an external index array to split all three datasets the same way and compare performance apples-to-apples.\n",
    "\n",
    "There are a couple of things I could poke at: feature selection, feature scaling.\n",
    "\n",
    "i.e. Should I use all the features to predict or a subset? and How should I scale?\n",
    "\n",
    "Downstream thing would be to figure out \"Do I take an unweighted average of the k neighbors' prices?\" or \"Do I create a parameter (or vector space) by which I weight distances from my neighbors in my prices?\"\n",
    "\n",
    "For the \"training/test\" split I'll use 100:50 in this exercise."
   ]
  },
  {
   "cell_type": "code",
   "execution_count": 91,
   "metadata": {},
   "outputs": [],
   "source": [
    "split_array = np.concatenate((np.ones(100), np.zeros(50)), 0)\n",
    "np.random.shuffle(split_array)"
   ]
  },
  {
   "cell_type": "code",
   "execution_count": 92,
   "metadata": {},
   "outputs": [
    {
     "data": {
      "text/plain": [
       "array([1., 0., 1., 0., 0.])"
      ]
     },
     "execution_count": 92,
     "metadata": {},
     "output_type": "execute_result"
    }
   ],
   "source": [
    "split_array[:5]"
   ]
  },
  {
   "cell_type": "code",
   "execution_count": 93,
   "metadata": {},
   "outputs": [],
   "source": [
    "no_scale_training, no_scale_test = split_dataset(\n",
    "    no_scaling_pivoted_dataset,\n",
    "    100,\n",
    "    split_array=split_array\n",
    ")"
   ]
  },
  {
   "cell_type": "code",
   "execution_count": 94,
   "metadata": {},
   "outputs": [
    {
     "data": {
      "text/plain": [
       "array([[2.0110e+03, 7.4130e+03, 1.0000e+00, 0.0000e+00, 0.0000e+00,\n",
       "        0.0000e+00, 1.0000e+00, 0.0000e+00, 0.0000e+00, 0.0000e+00,\n",
       "        0.0000e+00, 0.0000e+00, 0.0000e+00, 0.0000e+00, 1.0000e+00,\n",
       "        0.0000e+00, 2.1992e+04],\n",
       "       [2.0110e+03, 7.3510e+03, 1.0000e+00, 0.0000e+00, 0.0000e+00,\n",
       "        0.0000e+00, 1.0000e+00, 0.0000e+00, 1.0000e+00, 0.0000e+00,\n",
       "        0.0000e+00, 0.0000e+00, 0.0000e+00, 0.0000e+00, 0.0000e+00,\n",
       "        0.0000e+00, 1.9995e+04],\n",
       "       [2.0100e+03, 2.1026e+04, 1.0000e+00, 0.0000e+00, 0.0000e+00,\n",
       "        0.0000e+00, 1.0000e+00, 0.0000e+00, 1.0000e+00, 0.0000e+00,\n",
       "        0.0000e+00, 0.0000e+00, 0.0000e+00, 0.0000e+00, 0.0000e+00,\n",
       "        0.0000e+00, 1.6995e+04],\n",
       "       [2.0110e+03, 3.2655e+04, 1.0000e+00, 0.0000e+00, 0.0000e+00,\n",
       "        1.0000e+00, 0.0000e+00, 0.0000e+00, 1.0000e+00, 0.0000e+00,\n",
       "        0.0000e+00, 0.0000e+00, 0.0000e+00, 0.0000e+00, 0.0000e+00,\n",
       "        0.0000e+00, 1.6995e+04],\n",
       "       [2.0100e+03, 4.0539e+04, 1.0000e+00, 0.0000e+00, 0.0000e+00,\n",
       "        1.0000e+00, 0.0000e+00, 1.0000e+00, 0.0000e+00, 0.0000e+00,\n",
       "        0.0000e+00, 0.0000e+00, 0.0000e+00, 0.0000e+00, 0.0000e+00,\n",
       "        0.0000e+00, 1.6995e+04]])"
      ]
     },
     "execution_count": 94,
     "metadata": {},
     "output_type": "execute_result"
    }
   ],
   "source": [
    "no_scale_training[:5]"
   ]
  },
  {
   "cell_type": "code",
   "execution_count": 95,
   "metadata": {},
   "outputs": [
    {
     "data": {
      "text/plain": [
       "array([[2.0110e+03, 1.0926e+04, 1.0000e+00, 0.0000e+00, 0.0000e+00,\n",
       "        0.0000e+00, 1.0000e+00, 0.0000e+00, 0.0000e+00, 0.0000e+00,\n",
       "        0.0000e+00, 1.0000e+00, 0.0000e+00, 0.0000e+00, 0.0000e+00,\n",
       "        0.0000e+00, 2.0995e+04],\n",
       "       [2.0110e+03, 1.1613e+04, 1.0000e+00, 0.0000e+00, 0.0000e+00,\n",
       "        0.0000e+00, 1.0000e+00, 0.0000e+00, 0.0000e+00, 0.0000e+00,\n",
       "        0.0000e+00, 1.0000e+00, 0.0000e+00, 0.0000e+00, 0.0000e+00,\n",
       "        0.0000e+00, 1.7809e+04],\n",
       "       [2.0120e+03, 8.3670e+03, 1.0000e+00, 0.0000e+00, 1.0000e+00,\n",
       "        0.0000e+00, 0.0000e+00, 0.0000e+00, 0.0000e+00, 0.0000e+00,\n",
       "        0.0000e+00, 0.0000e+00, 1.0000e+00, 0.0000e+00, 0.0000e+00,\n",
       "        0.0000e+00, 1.7500e+04],\n",
       "       [2.0100e+03, 2.5125e+04, 1.0000e+00, 0.0000e+00, 0.0000e+00,\n",
       "        0.0000e+00, 1.0000e+00, 0.0000e+00, 1.0000e+00, 0.0000e+00,\n",
       "        0.0000e+00, 0.0000e+00, 0.0000e+00, 0.0000e+00, 0.0000e+00,\n",
       "        0.0000e+00, 1.7495e+04],\n",
       "       [2.0110e+03, 2.7393e+04, 1.0000e+00, 0.0000e+00, 0.0000e+00,\n",
       "        0.0000e+00, 1.0000e+00, 0.0000e+00, 0.0000e+00, 0.0000e+00,\n",
       "        1.0000e+00, 0.0000e+00, 0.0000e+00, 0.0000e+00, 0.0000e+00,\n",
       "        0.0000e+00, 1.7000e+04]])"
      ]
     },
     "execution_count": 95,
     "metadata": {},
     "output_type": "execute_result"
    }
   ],
   "source": [
    "no_scale_test[:5]"
   ]
  },
  {
   "cell_type": "markdown",
   "metadata": {},
   "source": [
    "Let's predict the 4-NN for the first element in the test set"
   ]
  },
  {
   "cell_type": "code",
   "execution_count": 96,
   "metadata": {},
   "outputs": [],
   "source": [
    "test_neighbors = find_k_neighbors(\n",
    "    no_scale_test[0],\n",
    "    no_scale_training,\n",
    "    4,\n",
    "    16\n",
    ")"
   ]
  },
  {
   "cell_type": "code",
   "execution_count": 97,
   "metadata": {},
   "outputs": [
    {
     "data": {
      "text/plain": [
       "[array([2.0110e+03, 1.1662e+04, 1.0000e+00, 0.0000e+00, 0.0000e+00,\n",
       "        0.0000e+00, 1.0000e+00, 0.0000e+00, 0.0000e+00, 0.0000e+00,\n",
       "        1.0000e+00, 0.0000e+00, 0.0000e+00, 0.0000e+00, 0.0000e+00,\n",
       "        0.0000e+00, 1.5992e+04]),\n",
       " array([2.009e+03, 9.450e+03, 1.000e+00, 0.000e+00, 1.000e+00, 0.000e+00,\n",
       "        0.000e+00, 1.000e+00, 0.000e+00, 0.000e+00, 0.000e+00, 0.000e+00,\n",
       "        0.000e+00, 0.000e+00, 0.000e+00, 0.000e+00, 1.395e+04]),\n",
       " array([2.011e+03, 9.388e+03, 1.000e+00, 0.000e+00, 0.000e+00, 0.000e+00,\n",
       "        1.000e+00, 0.000e+00, 0.000e+00, 0.000e+00, 0.000e+00, 0.000e+00,\n",
       "        0.000e+00, 1.000e+00, 0.000e+00, 0.000e+00, 1.695e+04]),\n",
       " array([2.0110e+03, 9.1990e+03, 1.0000e+00, 0.0000e+00, 0.0000e+00,\n",
       "        1.0000e+00, 0.0000e+00, 0.0000e+00, 1.0000e+00, 0.0000e+00,\n",
       "        0.0000e+00, 0.0000e+00, 0.0000e+00, 0.0000e+00, 0.0000e+00,\n",
       "        0.0000e+00, 1.6992e+04])]"
      ]
     },
     "execution_count": 97,
     "metadata": {},
     "output_type": "execute_result"
    }
   ],
   "source": [
    "test_neighbors"
   ]
  },
  {
   "cell_type": "markdown",
   "metadata": {},
   "source": [
    "## 4. run predict_category_from_knn on test set to generate predictions\n",
    "\n",
    "What does the prediction look like for a pure average of the neighbors' prices?"
   ]
  },
  {
   "cell_type": "code",
   "execution_count": 98,
   "metadata": {},
   "outputs": [],
   "source": [
    "from math import fsum"
   ]
  },
  {
   "cell_type": "code",
   "execution_count": 99,
   "metadata": {},
   "outputs": [],
   "source": [
    "test_price_prediction = fsum([row[16] for row in test_neighbors]) / 4.0"
   ]
  },
  {
   "cell_type": "code",
   "execution_count": 100,
   "metadata": {},
   "outputs": [
    {
     "data": {
      "text/plain": [
       "15971.0"
      ]
     },
     "execution_count": 100,
     "metadata": {},
     "output_type": "execute_result"
    }
   ],
   "source": [
    "test_price_prediction"
   ]
  },
  {
   "cell_type": "code",
   "execution_count": 101,
   "metadata": {},
   "outputs": [
    {
     "data": {
      "text/plain": [
       "5024.0"
      ]
     },
     "execution_count": 101,
     "metadata": {},
     "output_type": "execute_result"
    }
   ],
   "source": [
    "# how far off am I?\n",
    "no_scale_test[0][16] - test_price_prediction"
   ]
  },
  {
   "cell_type": "code",
   "execution_count": 102,
   "metadata": {},
   "outputs": [],
   "source": [
    "def predict_from_knn_average(query,\n",
    "                             dataset,\n",
    "                             k,\n",
    "                             vector_length,\n",
    "                             category_index=-1\n",
    "                             ):\n",
    "    \"\"\"find knn and then predict outcome as mean of neighbors' values\n",
    "    \"\"\"\n",
    "    if category_index < 0:\n",
    "        category_index = vector_length\n",
    "    neighbors = find_k_neighbors(query, dataset, k, vector_length)\n",
    "    predicted_outcome = fsum([row[category_index] for row in neighbors]) / k\n",
    "    return predicted_outcome"
   ]
  },
  {
   "cell_type": "code",
   "execution_count": 103,
   "metadata": {},
   "outputs": [],
   "source": [
    "test_func_prediction = predict_from_knn_average(\n",
    "    no_scale_test[0],\n",
    "    no_scale_training,\n",
    "    4,\n",
    "    16\n",
    ")"
   ]
  },
  {
   "cell_type": "code",
   "execution_count": 104,
   "metadata": {},
   "outputs": [
    {
     "data": {
      "text/plain": [
       "15971.0"
      ]
     },
     "execution_count": 104,
     "metadata": {},
     "output_type": "execute_result"
    }
   ],
   "source": [
    "test_func_prediction"
   ]
  },
  {
   "cell_type": "markdown",
   "metadata": {},
   "source": [
    "#### now we are in business\n",
    "\n",
    "Let's get a list of predictions with 'no-scale' dataset and use `euclidean distance` function to get a abs value score for how bad the predictions are"
   ]
  },
  {
   "cell_type": "code",
   "execution_count": 105,
   "metadata": {},
   "outputs": [],
   "source": [
    "all_no_scale_test_predictions = []\n",
    "for row in no_scale_test:\n",
    "    prediction = predict_from_knn_average(\n",
    "        row,\n",
    "        no_scale_training,\n",
    "        4,\n",
    "        16\n",
    "    )\n",
    "    all_no_scale_test_predictions.append(prediction)"
   ]
  },
  {
   "cell_type": "code",
   "execution_count": 106,
   "metadata": {},
   "outputs": [],
   "source": [
    "truth = [row[16] for row in no_scale_test]"
   ]
  },
  {
   "cell_type": "code",
   "execution_count": 107,
   "metadata": {},
   "outputs": [
    {
     "name": "stdout",
     "output_type": "stream",
     "text": [
      "50\n",
      "50\n"
     ]
    }
   ],
   "source": [
    "print len(all_no_scale_test_predictions)\n",
    "print len(truth)"
   ]
  },
  {
   "cell_type": "code",
   "execution_count": 108,
   "metadata": {},
   "outputs": [],
   "source": [
    "no_scale_error = euclidean_distance(all_no_scale_test_predictions, truth, 50)"
   ]
  },
  {
   "cell_type": "code",
   "execution_count": 109,
   "metadata": {},
   "outputs": [
    {
     "data": {
      "text/plain": [
       "13060.631234745126"
      ]
     },
     "execution_count": 109,
     "metadata": {},
     "output_type": "execute_result"
    }
   ],
   "source": [
    "no_scale_error"
   ]
  },
  {
   "cell_type": "markdown",
   "metadata": {},
   "source": [
    "#### Funny... it is hard to know whether this is \"good\" or \"bad\"\n",
    "\n",
    "Would be useful to have a null hypothesis. Maybe \"is this better than pure multivariate linear regression?\" would be a useful benchmark.\n",
    "\n",
    "Within the data here I can at least see if the error gets smaller or bigger for the scaled datasets."
   ]
  },
  {
   "cell_type": "code",
   "execution_count": 110,
   "metadata": {},
   "outputs": [],
   "source": [
    "norm_scaled_training, norm_scaled_test = split_dataset(\n",
    "    norm_scaling_pivoted_dataset,\n",
    "    100,\n",
    "    split_array=split_array\n",
    ")"
   ]
  },
  {
   "cell_type": "code",
   "execution_count": 111,
   "metadata": {},
   "outputs": [
    {
     "data": {
      "text/plain": [
       "array([[9.16666667e-01, 1.73655635e-02, 1.00000000e+00, 0.00000000e+00,\n",
       "        0.00000000e+00, 0.00000000e+00, 1.00000000e+00, 0.00000000e+00,\n",
       "        0.00000000e+00, 0.00000000e+00, 0.00000000e+00, 0.00000000e+00,\n",
       "        0.00000000e+00, 0.00000000e+00, 1.00000000e+00, 0.00000000e+00,\n",
       "        2.19920000e+04],\n",
       "       [9.16666667e-01, 1.69426786e-02, 1.00000000e+00, 0.00000000e+00,\n",
       "        0.00000000e+00, 0.00000000e+00, 1.00000000e+00, 0.00000000e+00,\n",
       "        1.00000000e+00, 0.00000000e+00, 0.00000000e+00, 0.00000000e+00,\n",
       "        0.00000000e+00, 0.00000000e+00, 0.00000000e+00, 0.00000000e+00,\n",
       "        1.99950000e+04],\n",
       "       [8.33333333e-01, 1.10216081e-01, 1.00000000e+00, 0.00000000e+00,\n",
       "        0.00000000e+00, 0.00000000e+00, 1.00000000e+00, 0.00000000e+00,\n",
       "        1.00000000e+00, 0.00000000e+00, 0.00000000e+00, 0.00000000e+00,\n",
       "        0.00000000e+00, 0.00000000e+00, 0.00000000e+00, 0.00000000e+00,\n",
       "        1.69950000e+04],\n",
       "       [9.16666667e-01, 1.89534281e-01, 1.00000000e+00, 0.00000000e+00,\n",
       "        0.00000000e+00, 1.00000000e+00, 0.00000000e+00, 0.00000000e+00,\n",
       "        1.00000000e+00, 0.00000000e+00, 0.00000000e+00, 0.00000000e+00,\n",
       "        0.00000000e+00, 0.00000000e+00, 0.00000000e+00, 0.00000000e+00,\n",
       "        1.69950000e+04],\n",
       "       [8.33333333e-01, 2.43308870e-01, 1.00000000e+00, 0.00000000e+00,\n",
       "        0.00000000e+00, 1.00000000e+00, 0.00000000e+00, 1.00000000e+00,\n",
       "        0.00000000e+00, 0.00000000e+00, 0.00000000e+00, 0.00000000e+00,\n",
       "        0.00000000e+00, 0.00000000e+00, 0.00000000e+00, 0.00000000e+00,\n",
       "        1.69950000e+04]])"
      ]
     },
     "execution_count": 111,
     "metadata": {},
     "output_type": "execute_result"
    }
   ],
   "source": [
    "norm_scaled_training[:5]"
   ]
  },
  {
   "cell_type": "code",
   "execution_count": 112,
   "metadata": {},
   "outputs": [],
   "source": [
    "std_scaled_training, std_scaled_test = split_dataset(\n",
    "    std_scaling_pivoted_dataset,\n",
    "    100,\n",
    "    split_array=split_array\n",
    ")"
   ]
  },
  {
   "cell_type": "code",
   "execution_count": 113,
   "metadata": {},
   "outputs": [
    {
     "data": {
      "text/plain": [
       "array([[ 1.03634013e+00, -1.37020780e+00,  1.00000000e+00,\n",
       "         0.00000000e+00,  0.00000000e+00,  0.00000000e+00,\n",
       "         1.00000000e+00,  0.00000000e+00,  0.00000000e+00,\n",
       "         0.00000000e+00,  0.00000000e+00,  0.00000000e+00,\n",
       "         0.00000000e+00,  0.00000000e+00,  1.00000000e+00,\n",
       "         0.00000000e+00,  2.19920000e+04],\n",
       "       [ 1.03634013e+00, -1.37251331e+00,  1.00000000e+00,\n",
       "         0.00000000e+00,  0.00000000e+00,  0.00000000e+00,\n",
       "         1.00000000e+00,  0.00000000e+00,  1.00000000e+00,\n",
       "         0.00000000e+00,  0.00000000e+00,  0.00000000e+00,\n",
       "         0.00000000e+00,  0.00000000e+00,  0.00000000e+00,\n",
       "         0.00000000e+00,  1.99950000e+04],\n",
       "       [ 5.80472038e-01, -8.63998027e-01,  1.00000000e+00,\n",
       "         0.00000000e+00,  0.00000000e+00,  0.00000000e+00,\n",
       "         1.00000000e+00,  0.00000000e+00,  1.00000000e+00,\n",
       "         0.00000000e+00,  0.00000000e+00,  0.00000000e+00,\n",
       "         0.00000000e+00,  0.00000000e+00,  0.00000000e+00,\n",
       "         0.00000000e+00,  1.69950000e+04],\n",
       "       [ 1.03634013e+00, -4.31564808e-01,  1.00000000e+00,\n",
       "         0.00000000e+00,  0.00000000e+00,  1.00000000e+00,\n",
       "         0.00000000e+00,  0.00000000e+00,  1.00000000e+00,\n",
       "         0.00000000e+00,  0.00000000e+00,  0.00000000e+00,\n",
       "         0.00000000e+00,  0.00000000e+00,  0.00000000e+00,\n",
       "         0.00000000e+00,  1.69950000e+04],\n",
       "       [ 5.80472038e-01, -1.38392265e-01,  1.00000000e+00,\n",
       "         0.00000000e+00,  0.00000000e+00,  1.00000000e+00,\n",
       "         0.00000000e+00,  1.00000000e+00,  0.00000000e+00,\n",
       "         0.00000000e+00,  0.00000000e+00,  0.00000000e+00,\n",
       "         0.00000000e+00,  0.00000000e+00,  0.00000000e+00,\n",
       "         0.00000000e+00,  1.69950000e+04]])"
      ]
     },
     "execution_count": 113,
     "metadata": {},
     "output_type": "execute_result"
    }
   ],
   "source": [
    "std_scaled_training[:5]"
   ]
  },
  {
   "cell_type": "markdown",
   "metadata": {},
   "source": [
    "## 5. find score for algorithm\n",
    "\n",
    "I've got all the different scaled datasets split similarly I can look at the effect on the score of the different feature scalings and of cutting out some of the categorical values."
   ]
  },
  {
   "cell_type": "code",
   "execution_count": 114,
   "metadata": {},
   "outputs": [],
   "source": [
    "# run the code to predict all prices using the normed datasets\n",
    "all_norm_scaled_test_predictions = []\n",
    "for row in norm_scaled_test:\n",
    "    prediction = predict_from_knn_average(\n",
    "        row,\n",
    "        norm_scaled_training,\n",
    "        4,\n",
    "        16\n",
    "    )\n",
    "    all_norm_scaled_test_predictions.append(prediction)"
   ]
  },
  {
   "cell_type": "code",
   "execution_count": 115,
   "metadata": {},
   "outputs": [],
   "source": [
    "# run the code to predict all prices using the normed datasets\n",
    "all_std_scaled_test_predictions = []\n",
    "for row in std_scaled_test:\n",
    "    prediction = predict_from_knn_average(\n",
    "        row,\n",
    "        std_scaled_training,\n",
    "        4,\n",
    "        16\n",
    "    )\n",
    "    all_std_scaled_test_predictions.append(prediction)"
   ]
  },
  {
   "cell_type": "code",
   "execution_count": 116,
   "metadata": {},
   "outputs": [],
   "source": [
    "norm_scaled_error = euclidean_distance(all_norm_scaled_test_predictions, truth, 50)"
   ]
  },
  {
   "cell_type": "code",
   "execution_count": 117,
   "metadata": {},
   "outputs": [],
   "source": [
    "std_scaled_error = euclidean_distance(all_std_scaled_test_predictions, truth, 50)"
   ]
  },
  {
   "cell_type": "code",
   "execution_count": 118,
   "metadata": {},
   "outputs": [
    {
     "name": "stdout",
     "output_type": "stream",
     "text": [
      "13060.6312347\n",
      "15738.4910431\n",
      "9365.35532561\n"
     ]
    }
   ],
   "source": [
    "print no_scale_error\n",
    "print norm_scaled_error\n",
    "print std_scaled_error"
   ]
  },
  {
   "cell_type": "markdown",
   "metadata": {},
   "source": [
    "#### Hypothesis disproven! the standardization scaling set had lower error than the other predictions\n",
    "\n",
    "That is pretty cool. I think that I will poke around on feature selection within that scaling."
   ]
  },
  {
   "cell_type": "code",
   "execution_count": 119,
   "metadata": {},
   "outputs": [
    {
     "data": {
      "text/plain": [
       "['year',\n",
       " 'model',\n",
       " 'AUTO',\n",
       " 'MANUAL',\n",
       " 'SE',\n",
       " 'SES',\n",
       " 'SEL',\n",
       " 'Black',\n",
       " 'Silver',\n",
       " 'Red',\n",
       " 'Blue',\n",
       " 'Gray',\n",
       " 'White',\n",
       " 'Green',\n",
       " 'Yellow',\n",
       " 'Gold',\n",
       " 'price']"
      ]
     },
     "execution_count": 119,
     "metadata": {},
     "output_type": "execute_result"
    }
   ],
   "source": [
    "# removing color from prediction should be easy\n",
    "# I just have to reduce the vector length arg to trim\n",
    "# values used in the prediction\n",
    "# at what index do the colors start?\n",
    "header"
   ]
  },
  {
   "cell_type": "code",
   "execution_count": 120,
   "metadata": {},
   "outputs": [
    {
     "data": {
      "text/plain": [
       "['year', 'model', 'AUTO', 'MANUAL', 'SE', 'SES', 'SEL', 'Black']"
      ]
     },
     "execution_count": 120,
     "metadata": {},
     "output_type": "execute_result"
    }
   ],
   "source": [
    "header[:8]"
   ]
  },
  {
   "cell_type": "code",
   "execution_count": 122,
   "metadata": {},
   "outputs": [
    {
     "name": "stdout",
     "output_type": "stream",
     "text": [
      "['year', 'model', 'AUTO', 'MANUAL', 'SE', 'SES', 'SEL']\n"
     ]
    },
    {
     "data": {
      "text/plain": [
       "9"
      ]
     },
     "execution_count": 122,
     "metadata": {},
     "output_type": "execute_result"
    }
   ],
   "source": [
    "# answer is seven \n",
    "print header[:7]\n",
    "\n",
    "# this squares with the fact that there are nine colors\n",
    "len(pivoted_colors[0])"
   ]
  },
  {
   "cell_type": "code",
   "execution_count": 123,
   "metadata": {},
   "outputs": [
    {
     "data": {
      "text/plain": [
       "'price'"
      ]
     },
     "execution_count": 123,
     "metadata": {},
     "output_type": "execute_result"
    }
   ],
   "source": [
    "# will need to specify 'category_index'\n",
    "# should be '16'\n",
    "header[16]"
   ]
  },
  {
   "cell_type": "code",
   "execution_count": 124,
   "metadata": {},
   "outputs": [],
   "source": [
    "all_std_scaled_no_colors_test_predictions = []\n",
    "for row in std_scaled_test:\n",
    "    prediction = predict_from_knn_average(\n",
    "        row,\n",
    "        std_scaled_training,\n",
    "        4,\n",
    "        7,\n",
    "        category_index=16\n",
    "    )\n",
    "    all_std_scaled_no_colors_test_predictions.append(prediction)"
   ]
  },
  {
   "cell_type": "code",
   "execution_count": 125,
   "metadata": {},
   "outputs": [],
   "source": [
    "std_scaled_no_colors_error = euclidean_distance(\n",
    "    all_std_scaled_no_colors_test_predictions,\n",
    "    truth,\n",
    "    50\n",
    ")"
   ]
  },
  {
   "cell_type": "code",
   "execution_count": 126,
   "metadata": {},
   "outputs": [
    {
     "data": {
      "text/plain": [
       "8131.225015334406"
      ]
     },
     "execution_count": 126,
     "metadata": {},
     "output_type": "execute_result"
    }
   ],
   "source": [
    "std_scaled_no_colors_error"
   ]
  },
  {
   "cell_type": "code",
   "execution_count": 127,
   "metadata": {},
   "outputs": [
    {
     "data": {
      "text/plain": [
       "['year', 'model', 'AUTO', 'MANUAL']"
      ]
     },
     "execution_count": 127,
     "metadata": {},
     "output_type": "execute_result"
    }
   ],
   "source": [
    "# let's remove model type next\n",
    "header[:4]"
   ]
  },
  {
   "cell_type": "code",
   "execution_count": 128,
   "metadata": {},
   "outputs": [],
   "source": [
    "all_std_scaled_no_colors_nor_models_test_predictions = []\n",
    "for row in std_scaled_test:\n",
    "    prediction = predict_from_knn_average(\n",
    "        row,\n",
    "        std_scaled_training,\n",
    "        4,\n",
    "        4,\n",
    "        category_index=16\n",
    "    )\n",
    "    all_std_scaled_no_colors_nor_models_test_predictions.append(prediction)"
   ]
  },
  {
   "cell_type": "code",
   "execution_count": 129,
   "metadata": {},
   "outputs": [],
   "source": [
    "std_scaled_no_colors_nor_models_error = euclidean_distance(\n",
    "    all_std_scaled_no_colors_nor_models_test_predictions,\n",
    "    truth,\n",
    "    50\n",
    ")"
   ]
  },
  {
   "cell_type": "code",
   "execution_count": 130,
   "metadata": {},
   "outputs": [
    {
     "data": {
      "text/plain": [
       "8953.306431844048"
      ]
     },
     "execution_count": 130,
     "metadata": {},
     "output_type": "execute_result"
    }
   ],
   "source": [
    "std_scaled_no_colors_nor_models_error"
   ]
  },
  {
   "cell_type": "markdown",
   "metadata": {},
   "source": [
    "The error went up. Let's keep the model type data. A little trickier: let's selectively remove the transmission data."
   ]
  },
  {
   "cell_type": "code",
   "execution_count": 133,
   "metadata": {},
   "outputs": [
    {
     "name": "stdout",
     "output_type": "stream",
     "text": [
      "[[ 1.03634013 -1.23957422]\n",
      " [ 1.03634013 -1.2140276 ]\n",
      " [ 1.49220822 -1.33473258]\n",
      " [ 0.58047204 -0.71157359]]\n",
      "[[0.0000e+00 0.0000e+00 1.0000e+00 0.0000e+00 0.0000e+00 0.0000e+00\n",
      "  0.0000e+00 1.0000e+00 0.0000e+00 0.0000e+00 0.0000e+00 0.0000e+00\n",
      "  2.0995e+04]\n",
      " [0.0000e+00 0.0000e+00 1.0000e+00 0.0000e+00 0.0000e+00 0.0000e+00\n",
      "  0.0000e+00 1.0000e+00 0.0000e+00 0.0000e+00 0.0000e+00 0.0000e+00\n",
      "  1.7809e+04]\n",
      " [1.0000e+00 0.0000e+00 0.0000e+00 0.0000e+00 0.0000e+00 0.0000e+00\n",
      "  0.0000e+00 0.0000e+00 1.0000e+00 0.0000e+00 0.0000e+00 0.0000e+00\n",
      "  1.7500e+04]\n",
      " [0.0000e+00 0.0000e+00 1.0000e+00 0.0000e+00 1.0000e+00 0.0000e+00\n",
      "  0.0000e+00 0.0000e+00 0.0000e+00 0.0000e+00 0.0000e+00 0.0000e+00\n",
      "  1.7495e+04]]\n"
     ]
    }
   ],
   "source": [
    "print std_scaled_test[:4, :2]\n",
    "print std_scaled_test[:4, 4:]"
   ]
  },
  {
   "cell_type": "code",
   "execution_count": 134,
   "metadata": {},
   "outputs": [
    {
     "name": "stdout",
     "output_type": "stream",
     "text": [
      "['year', 'model']\n",
      "['SE', 'SES', 'SEL', 'Black', 'Silver', 'Red', 'Blue', 'Gray', 'White', 'Green', 'Yellow', 'Gold', 'price']\n"
     ]
    }
   ],
   "source": [
    "print header[:2]\n",
    "print header[4:]"
   ]
  },
  {
   "cell_type": "code",
   "execution_count": 135,
   "metadata": {},
   "outputs": [],
   "source": [
    "std_scaled_test_no_transmission = np.concatenate(\n",
    "    (std_scaled_test[:, :2],\n",
    "     std_scaled_test[:, 4:]),\n",
    "    axis=1\n",
    ")\n",
    "std_scaled_training_no_transmission = np.concatenate(\n",
    "    (std_scaled_training[:, :2],\n",
    "     std_scaled_training[:, 4:]),\n",
    "    axis=1\n",
    ")"
   ]
  },
  {
   "cell_type": "code",
   "execution_count": 136,
   "metadata": {},
   "outputs": [
    {
     "data": {
      "text/plain": [
       "(50, 15)"
      ]
     },
     "execution_count": 136,
     "metadata": {},
     "output_type": "execute_result"
    }
   ],
   "source": [
    "std_scaled_test_no_transmission.shape"
   ]
  },
  {
   "cell_type": "code",
   "execution_count": 137,
   "metadata": {},
   "outputs": [
    {
     "data": {
      "text/plain": [
       "(100, 15)"
      ]
     },
     "execution_count": 137,
     "metadata": {},
     "output_type": "execute_result"
    }
   ],
   "source": [
    "std_scaled_training_no_transmission.shape"
   ]
  },
  {
   "cell_type": "code",
   "execution_count": 138,
   "metadata": {},
   "outputs": [
    {
     "data": {
      "text/plain": [
       "(50, 17)"
      ]
     },
     "execution_count": 138,
     "metadata": {},
     "output_type": "execute_result"
    }
   ],
   "source": [
    "std_scaled_test.shape"
   ]
  },
  {
   "cell_type": "code",
   "execution_count": 139,
   "metadata": {},
   "outputs": [],
   "source": [
    "no_transmission_header = header[:2] + header[4:]"
   ]
  },
  {
   "cell_type": "code",
   "execution_count": 140,
   "metadata": {},
   "outputs": [
    {
     "data": {
      "text/plain": [
       "['year',\n",
       " 'model',\n",
       " 'SE',\n",
       " 'SES',\n",
       " 'SEL',\n",
       " 'Black',\n",
       " 'Silver',\n",
       " 'Red',\n",
       " 'Blue',\n",
       " 'Gray',\n",
       " 'White',\n",
       " 'Green',\n",
       " 'Yellow',\n",
       " 'Gold',\n",
       " 'price']"
      ]
     },
     "execution_count": 140,
     "metadata": {},
     "output_type": "execute_result"
    }
   ],
   "source": [
    "no_transmission_header"
   ]
  },
  {
   "cell_type": "code",
   "execution_count": 141,
   "metadata": {},
   "outputs": [
    {
     "data": {
      "text/plain": [
       "['year', 'model', 'SE', 'SES', 'SEL']"
      ]
     },
     "execution_count": 141,
     "metadata": {},
     "output_type": "execute_result"
    }
   ],
   "source": [
    "no_transmission_header[:5]"
   ]
  },
  {
   "cell_type": "code",
   "execution_count": 142,
   "metadata": {},
   "outputs": [
    {
     "data": {
      "text/plain": [
       "'price'"
      ]
     },
     "execution_count": 142,
     "metadata": {},
     "output_type": "execute_result"
    }
   ],
   "source": [
    "no_transmission_header[14]"
   ]
  },
  {
   "cell_type": "code",
   "execution_count": 143,
   "metadata": {},
   "outputs": [],
   "source": [
    "all_std_scaled_no_colors_nor_transmission_test_predictions = []\n",
    "for row in std_scaled_test_no_transmission:\n",
    "    prediction = predict_from_knn_average(\n",
    "        row,\n",
    "        std_scaled_training_no_transmission,\n",
    "        4,\n",
    "        5,\n",
    "        category_index=14\n",
    "    )\n",
    "    all_std_scaled_no_colors_nor_transmission_test_predictions.append(prediction)"
   ]
  },
  {
   "cell_type": "code",
   "execution_count": 144,
   "metadata": {},
   "outputs": [],
   "source": [
    "std_scaled_no_colors_nor_transmission_error = euclidean_distance(\n",
    "    all_std_scaled_no_colors_nor_transmission_test_predictions,\n",
    "    truth,\n",
    "    50\n",
    ")"
   ]
  },
  {
   "cell_type": "code",
   "execution_count": 145,
   "metadata": {},
   "outputs": [
    {
     "data": {
      "text/plain": [
       "8540.117098875167"
      ]
     },
     "execution_count": 145,
     "metadata": {},
     "output_type": "execute_result"
    }
   ],
   "source": [
    "std_scaled_no_colors_nor_transmission_error"
   ]
  },
  {
   "cell_type": "markdown",
   "metadata": {},
   "source": [
    "## Best predictions appear to be from std scaling of numerical features and de-selecting color data\n",
    "\n",
    "This is from a process using test/training analysis, scaling, then feature selection"
   ]
  }
 ],
 "metadata": {
  "kernelspec": {
   "display_name": "Python 2",
   "language": "python",
   "name": "python2"
  },
  "language_info": {
   "codemirror_mode": {
    "name": "ipython",
    "version": 2
   },
   "file_extension": ".py",
   "mimetype": "text/x-python",
   "name": "python",
   "nbconvert_exporter": "python",
   "pygments_lexer": "ipython2",
   "version": "2.7.12"
  }
 },
 "nbformat": 4,
 "nbformat_minor": 2
}
