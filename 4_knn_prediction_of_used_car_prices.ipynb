{
 "cells": [
  {
   "cell_type": "markdown",
   "metadata": {},
   "source": [
    "# 4. Knn prediction of used car prices\n",
    "\n",
    "## Context\n",
    "\n",
    "I have written a from scratch algorithm for k nearest neighbors (knn) classification and tested it out on the Iris dataset. Here I want to extend the functionality of the knn code to enable predicting a continuous variable, in this early case price of a used car.\n",
    "\n",
    "## Work outline\n",
    "\n",
    "I will be updating module code to include new functions from the notebook #3 and adding extension functions to enable predicting a continuous variable. The [used car dataset](https://www.engineeringbigdata.com/wp-content/uploads/usedcars.csv) is from `www.engineeringbigdata.com`.\n",
    "\n",
    "### Steps\n",
    "\n",
    "1. import module from local filepath; load local data file\n",
    "2. split the dataset into training and test populations\n",
    "3. run predict_category_from_knn on test set to generate predictions\n",
    "4. find score for algorithm\n",
    "\n",
    "\n",
    "## Result\n",
    "\n",
    "TBD\n",
    "\n",
    "## Next steps\n",
    "\n",
    "Next I will consider how to scale and adjust weights to improve the model predictiveness.\n"
   ]
  },
  {
   "cell_type": "markdown",
   "metadata": {},
   "source": [
    "## 1. import module from local filepath; load local data file\n",
    "\n",
    "Also cleanup the dataset to prepare for applying functions\n"
   ]
  },
  {
   "cell_type": "code",
   "execution_count": 2,
   "metadata": {},
   "outputs": [],
   "source": [
    "import csv\n",
    "from collections import Counter\n",
    "\n",
    "import matplotlib.pyplot as plt\n",
    "import numpy as np\n",
    "\n",
    "from knn_base import euclidean_distance\n",
    "from knn_base import find_k_neighbors\n",
    "from knn_base import predict_category_from_knn"
   ]
  },
  {
   "cell_type": "code",
   "execution_count": 3,
   "metadata": {},
   "outputs": [],
   "source": [
    "# load raw dataset\n",
    "with open('data/usedcars.csv', 'r') as f:\n",
    "    lines = csv.reader(f)\n",
    "    dataset = list(lines)"
   ]
  },
  {
   "cell_type": "code",
   "execution_count": 4,
   "metadata": {},
   "outputs": [
    {
     "data": {
      "text/plain": [
       "[['year', 'model', 'price', 'mileage', 'color', 'transmission'],\n",
       " ['2011', 'SEL', '21992', '7413', 'Yellow', 'AUTO'],\n",
       " ['2011', 'SEL', '20995', '10926', 'Gray', 'AUTO'],\n",
       " ['2011', 'SEL', '19995', '7351', 'Silver', 'AUTO'],\n",
       " ['2011', 'SEL', '17809', '11613', 'Gray', 'AUTO']]"
      ]
     },
     "execution_count": 4,
     "metadata": {},
     "output_type": "execute_result"
    }
   ],
   "source": [
    "dataset[:5]"
   ]
  },
  {
   "cell_type": "code",
   "execution_count": 5,
   "metadata": {
    "collapsed": true
   },
   "outputs": [
    {
     "name": "stdout",
     "output_type": "stream",
     "text": [
      "Counter({'2010': 49, '2009': 42, '2011': 16, '2008': 14, '2007': 11, '2006': 6, '2000': 3, '2004': 3, '2005': 2, '2002': 1, '2003': 1, '2001': 1, 'year': 1, '2012': 1})\n",
      "Counter({'SE': 78, 'SES': 49, 'SEL': 23, 'model': 1})\n",
      "Counter({'12995': 7, '13992': 4, '13995': 4, '16995': 4, '14992': 3, '10995': 3, '13950': 3, '15999': 2, '15992': 2, '14999': 2, '6980': 2, '9999': 2, '9995': 2, '16950': 2, '7995': 2, '10955': 2, '15499': 2, '14495': 2, '12500': 2, '14677': 1, '12777': 1, '17000': 1, '11980': 1, '11984': 1, '15688': 1, '14989': 1, '5980': 1, '14477': 1, '10815': 1, '8494': 1, '15995': 1, '13845': 1, '14355': 1, '6995': 1, '5995': 1, '12704': 1, '15298': 1, '15500': 1, '13687': 1, '14990': 1, '14995': 1, '15988': 1, '20995': 1, '12780': 1, '15980': 1, '4899': 1, '9651': 1, '17500': 1, '13425': 1, '9992': 1, '12988': 1, '21992': 1, '13991': 1, '17495': 1, '13997': 1, '10979': 1, '13999': 1, '14699': 1, '13384': 1, '8800': 1, '13383': 1, '14299': 1, '12595': 1, '15889': 1, '12992': 1, '12849': 1, '12997': 1, '12998': 1, '12999': 1, '12990': 1, '11754': 1, '13742': 1, '13663': 1, '11450': 1, '15899': 1, '9000': 1, '3800': 1, '7900': 1, '17809': 1, '11749': 1, '16000': 1, '6200': 1, '8495': 1, '13350': 1, '6950': 1, '7488': 1, '14549': 1, '14893': 1, '13888': 1, '13599': 1, '10717': 1, '19995': 1, '7999': 1, '10000': 1, '13799': 1, '14499': 1, '6999': 1, '13895': 1, '13584': 1, '10836': 1, '14480': 1, '16992': 1, '14000': 1, '14900': 1, 'price': 1, '14906': 1, '11999': 1, '12280': 1, '14275': 1, '12507': 1, '11992': 1, '11495': 1, '8999': 1, '14761': 1, '11792': 1, '8996': 1, '8480': 1, '10770': 1})\n",
      "Counter({'32703': 1, '34419': 1, '78948': 1, '15167': 1, '36323': 1, '20278': 1, '11662': 1, '15367': 1, '106171': 1, '34888': 1, '33036': 1, '95000': 1, '29501': 1, '4867': 1, '32655': 1, '39943': 1, '49787': 1, '38286': 1, '59013': 1, '95364': 1, '105714': 1, '35636': 1, '16573': 1, '82221': 1, '69415': 1, '37185': 1, '27528': 1, '23967': 1, '29288': 1, '63926': 1, '29517': 1, '36116': 1, '24855': 1, '44518': 1, '36469': 1, '32559': 1, '21108': 1, '37905': 1, '97987': 1, '48174': 1, '13541': 1, '40539': 1, '36124': 1, '29338': 1, '36685': 1, '9388': 1, '46126': 1, '74109': 1, '36049': 1, '40330': 1, '28955': 1, '96000': 1, '38275': 1, '151479': 1, '34503': 1, '74427': 1, '53733': 1, '22029': 1, '21325': 1, '39722': 1, '31414': 1, '64055': 1, '7784': 1, '64199': 1, '25125': 1, '22143': 1, '23785': 1, '24030': 1, '38380': 1, '36447': 1, '34846': 1, '33302': 1, '11613': 1, '81596': 1, '34046': 1, '85229': 1, '40058': 1, '77231': 1, '41342': 1, '9199': 1, '87003': 1, '63296': 1, '42834': 1, '109259': 1, '7413': 1, '21721': 1, '59048': 1, '127327': 1, '36306': 1, '60161': 1, '24929': 1, '24920': 1, '32403': 1, '35871': 1, '101130': 1, '40180': 1, '31538': 1, '44789': 1, '48652': 1, '119720': 1, '7351': 1, '32069': 1, '35574': 1, '33107': 1, '53902': 1, '39665': 1, '71331': 1, '36252': 1, '32743': 1, '10926': 1, '11165': 1, '16035': 1, '42325': 1, '27136': 1, '35318': 1, '21026': 1, '8367': 1, '86862': 1, '49656': 1, '9450': 1, '54988': 1, '32058': 1, '35894': 1, '20019': 1, '96841': 1, '45996': 1, '26887': 1, '44813': 1, '50533': 1, '70036': 1, '36713': 1, '55170': 1, 'mileage': 1, '57341': 1, '80605': 1, '19926': 1, '68901': 1, '39643': 1, '43369': 1, '16368': 1, '51311': 1, '45813': 1, '60709': 1, '39211': 1, '35394': 1, '18948': 1, '72937': 1, '26716': 1, '35000': 1, '27393': 1, '78264': 1})\n",
      "Counter({'Black': 35, 'Silver': 32, 'Red': 25, 'Blue': 17, 'Gray': 16, 'White': 16, 'Green': 5, 'Yellow': 3, 'Gold': 1, 'color': 1})\n",
      "Counter({'AUTO': 128, 'MANUAL': 22, 'transmission': 1})\n"
     ]
    }
   ],
   "source": [
    "print Counter([row[0] for row in dataset])\n",
    "print Counter([row[1] for row in dataset])\n",
    "print Counter([row[2] for row in dataset])\n",
    "print Counter([row[3] for row in dataset])\n",
    "print Counter([row[4] for row in dataset])\n",
    "print Counter([row[5] for row in dataset])"
   ]
  },
  {
   "cell_type": "code",
   "execution_count": 6,
   "metadata": {},
   "outputs": [],
   "source": [
    "# going to put numerical features first\n",
    "# then categorical in increasing numbers of categories\n",
    "# last row is price\n",
    "new_dataset = []\n",
    "for row in dataset:\n",
    "    new_row = [row[3], row[0], row[5], row[1], row[4], row[2]]\n",
    "    new_dataset.append(new_row)"
   ]
  },
  {
   "cell_type": "code",
   "execution_count": 7,
   "metadata": {},
   "outputs": [],
   "source": [
    "raw_dataset_array = np.array(new_dataset)"
   ]
  },
  {
   "cell_type": "code",
   "execution_count": 8,
   "metadata": {},
   "outputs": [
    {
     "data": {
      "text/plain": [
       "array([['mileage', 'year', 'transmission', 'model', 'color', 'price'],\n",
       "       ['7413', '2011', 'AUTO', 'SEL', 'Yellow', '21992'],\n",
       "       ['10926', '2011', 'AUTO', 'SEL', 'Gray', '20995'],\n",
       "       ['7351', '2011', 'AUTO', 'SEL', 'Silver', '19995'],\n",
       "       ['11613', '2011', 'AUTO', 'SEL', 'Gray', '17809']], dtype='|S12')"
      ]
     },
     "execution_count": 8,
     "metadata": {},
     "output_type": "execute_result"
    }
   ],
   "source": [
    "raw_dataset_array[:5]"
   ]
  },
  {
   "cell_type": "code",
   "execution_count": 10,
   "metadata": {},
   "outputs": [
    {
     "name": "stdout",
     "output_type": "stream",
     "text": [
      "Counter({'SE': 78, 'SES': 49, 'SEL': 23, 'model': 1})\n",
      "\n",
      "Counter({'Black': 35, 'Silver': 32, 'Red': 25, 'Blue': 17, 'Gray': 16, 'White': 16, 'Green': 5, 'Yellow': 3, 'Gold': 1, 'color': 1})\n",
      "\n",
      "Counter({'AUTO': 128, 'MANUAL': 22, 'transmission': 1})\n"
     ]
    }
   ],
   "source": [
    "print Counter([row[1] for row in dataset])\n",
    "print ''\n",
    "print Counter([row[4] for row in dataset])\n",
    "print ''\n",
    "print Counter([row[5] for row in dataset])"
   ]
  },
  {
   "cell_type": "code",
   "execution_count": 11,
   "metadata": {},
   "outputs": [],
   "source": [
    "# need to turn all of the categorical variables into (0, 1) items\n",
    "transmission_lookup = {\n",
    "    'AUTO': 0,\n",
    "    'MANUAL': 1\n",
    "}\n",
    "model_lookup = {\n",
    "    'SE': (1, 0, 0),\n",
    "    'SES': (0, 1, 0),\n",
    "    'SEL': (0, 0, 1)\n",
    "}\n",
    "color_lookup = {\n",
    "    'Black': (1, 0, 0, 0, 0, 0, 0, 0, 0),\n",
    "    'Silver': (0, 1, 0, 0, 0, 0, 0, 0, 0),\n",
    "    'Red': (0, 0, 1, 0, 0, 0, 0, 0, 0),\n",
    "    'Blue': (0, 0, 0, 1, 0, 0, 0, 0, 0),\n",
    "    'Gray': (0, 0, 0, 0, 1, 0, 0, 0, 0),\n",
    "    'White': (0, 0, 0, 0, 0, 1, 0, 0, 0),\n",
    "    'Green': (0, 0, 0, 0, 0, 0, 1, 0, 0,),\n",
    "    'Yellow': (0, 0, 0, 0, 0, 0, 0, 1, 0),\n",
    "    'Gold': (0, 0, 0, 0, 0, 0, 0, 0, 1),\n",
    "}"
   ]
  },
  {
   "cell_type": "code",
   "execution_count": 19,
   "metadata": {},
   "outputs": [],
   "source": [
    "categorical_features = [['MANUAL', 'SE', 'SES', 'SEL',\n",
    "                        'Black', 'Silver', 'Red', 'Blue', 'Gray',\n",
    "                        'White', 'Green', 'Yellow', 'Gold']]\n",
    "for row in raw_dataset_array[1:]:\n",
    "    new_row = []\n",
    "    new_row.append(transmission_lookup[row[2]])\n",
    "    new_row.extend(model_lookup[row[3]])\n",
    "    new_row.extend(color_lookup[row[4]])\n",
    "    categorical_features.append(new_row)"
   ]
  },
  {
   "cell_type": "code",
   "execution_count": 21,
   "metadata": {},
   "outputs": [
    {
     "data": {
      "text/plain": [
       "[['MANUAL',\n",
       "  'SE',\n",
       "  'SES',\n",
       "  'SEL',\n",
       "  'Black',\n",
       "  'Silver',\n",
       "  'Red',\n",
       "  'Blue',\n",
       "  'Gray',\n",
       "  'White',\n",
       "  'Green',\n",
       "  'Yellow',\n",
       "  'Gold'],\n",
       " [0, 0, 0, 1, 0, 0, 0, 0, 0, 0, 0, 1, 0],\n",
       " [0, 0, 0, 1, 0, 0, 0, 0, 1, 0, 0, 0, 0]]"
      ]
     },
     "execution_count": 21,
     "metadata": {},
     "output_type": "execute_result"
    }
   ],
   "source": [
    "categorical_features[:3]"
   ]
  },
  {
   "cell_type": "code",
   "execution_count": 22,
   "metadata": {},
   "outputs": [],
   "source": [
    "categorical_features_array = np.array(categorical_features)"
   ]
  },
  {
   "cell_type": "code",
   "execution_count": 23,
   "metadata": {},
   "outputs": [],
   "source": [
    "header = list(raw_dataset_array[0])[:2] + categorical_features[0] + [raw_dataset_array[0][5]]"
   ]
  },
  {
   "cell_type": "code",
   "execution_count": 24,
   "metadata": {},
   "outputs": [
    {
     "data": {
      "text/plain": [
       "['mileage',\n",
       " 'year',\n",
       " 'MANUAL',\n",
       " 'SE',\n",
       " 'SES',\n",
       " 'SEL',\n",
       " 'Black',\n",
       " 'Silver',\n",
       " 'Red',\n",
       " 'Blue',\n",
       " 'Gray',\n",
       " 'White',\n",
       " 'Green',\n",
       " 'Yellow',\n",
       " 'Gold',\n",
       " 'price']"
      ]
     },
     "execution_count": 24,
     "metadata": {},
     "output_type": "execute_result"
    }
   ],
   "source": [
    "header"
   ]
  },
  {
   "cell_type": "code",
   "execution_count": 27,
   "metadata": {},
   "outputs": [
    {
     "data": {
      "text/plain": [
       "2"
      ]
     },
     "execution_count": 27,
     "metadata": {},
     "output_type": "execute_result"
    }
   ],
   "source": [
    "raw_dataset_array[1:, :2].ndim"
   ]
  },
  {
   "cell_type": "code",
   "execution_count": 28,
   "metadata": {},
   "outputs": [
    {
     "data": {
      "text/plain": [
       "2"
      ]
     },
     "execution_count": 28,
     "metadata": {},
     "output_type": "execute_result"
    }
   ],
   "source": [
    "categorical_features_array[1:].ndim"
   ]
  },
  {
   "cell_type": "code",
   "execution_count": 30,
   "metadata": {},
   "outputs": [
    {
     "data": {
      "text/plain": [
       "1"
      ]
     },
     "execution_count": 30,
     "metadata": {},
     "output_type": "execute_result"
    }
   ],
   "source": [
    "raw_dataset_array[1:, 5].ndim"
   ]
  },
  {
   "cell_type": "code",
   "execution_count": 35,
   "metadata": {},
   "outputs": [],
   "source": [
    "dataset_array1 = np.concatenate(\n",
    "    (raw_dataset_array[1:, :2],\n",
    "    categorical_features_array[1:],\n",
    "    raw_dataset_array[1:, 5:]),\n",
    "    axis=1\n",
    ")"
   ]
  },
  {
   "cell_type": "code",
   "execution_count": 36,
   "metadata": {},
   "outputs": [
    {
     "data": {
      "text/plain": [
       "array([['7413', '2011', '0', '0', '0', '1', '0', '0', '0', '0', '0', '0',\n",
       "        '0', '1', '0', '21992'],\n",
       "       ['10926', '2011', '0', '0', '0', '1', '0', '0', '0', '0', '1',\n",
       "        '0', '0', '0', '0', '20995'],\n",
       "       ['7351', '2011', '0', '0', '0', '1', '0', '1', '0', '0', '0', '0',\n",
       "        '0', '0', '0', '19995'],\n",
       "       ['11613', '2011', '0', '0', '0', '1', '0', '0', '0', '0', '1',\n",
       "        '0', '0', '0', '0', '17809'],\n",
       "       ['8367', '2012', '0', '1', '0', '0', '0', '0', '0', '0', '0', '1',\n",
       "        '0', '0', '0', '17500']], dtype='|S12')"
      ]
     },
     "execution_count": 36,
     "metadata": {},
     "output_type": "execute_result"
    }
   ],
   "source": [
    "dataset_array1[:5]"
   ]
  },
  {
   "cell_type": "code",
   "execution_count": 37,
   "metadata": {},
   "outputs": [],
   "source": [
    "dataset_array2 = np.array(dataset_array1, dtype=float)"
   ]
  },
  {
   "cell_type": "code",
   "execution_count": 38,
   "metadata": {},
   "outputs": [
    {
     "data": {
      "text/plain": [
       "array([[7.4130e+03, 2.0110e+03, 0.0000e+00, 0.0000e+00, 0.0000e+00,\n",
       "        1.0000e+00, 0.0000e+00, 0.0000e+00, 0.0000e+00, 0.0000e+00,\n",
       "        0.0000e+00, 0.0000e+00, 0.0000e+00, 1.0000e+00, 0.0000e+00,\n",
       "        2.1992e+04],\n",
       "       [1.0926e+04, 2.0110e+03, 0.0000e+00, 0.0000e+00, 0.0000e+00,\n",
       "        1.0000e+00, 0.0000e+00, 0.0000e+00, 0.0000e+00, 0.0000e+00,\n",
       "        1.0000e+00, 0.0000e+00, 0.0000e+00, 0.0000e+00, 0.0000e+00,\n",
       "        2.0995e+04],\n",
       "       [7.3510e+03, 2.0110e+03, 0.0000e+00, 0.0000e+00, 0.0000e+00,\n",
       "        1.0000e+00, 0.0000e+00, 1.0000e+00, 0.0000e+00, 0.0000e+00,\n",
       "        0.0000e+00, 0.0000e+00, 0.0000e+00, 0.0000e+00, 0.0000e+00,\n",
       "        1.9995e+04],\n",
       "       [1.1613e+04, 2.0110e+03, 0.0000e+00, 0.0000e+00, 0.0000e+00,\n",
       "        1.0000e+00, 0.0000e+00, 0.0000e+00, 0.0000e+00, 0.0000e+00,\n",
       "        1.0000e+00, 0.0000e+00, 0.0000e+00, 0.0000e+00, 0.0000e+00,\n",
       "        1.7809e+04],\n",
       "       [8.3670e+03, 2.0120e+03, 0.0000e+00, 1.0000e+00, 0.0000e+00,\n",
       "        0.0000e+00, 0.0000e+00, 0.0000e+00, 0.0000e+00, 0.0000e+00,\n",
       "        0.0000e+00, 1.0000e+00, 0.0000e+00, 0.0000e+00, 0.0000e+00,\n",
       "        1.7500e+04]])"
      ]
     },
     "execution_count": 38,
     "metadata": {},
     "output_type": "execute_result"
    }
   ],
   "source": [
    "dataset_array2[:5]"
   ]
  },
  {
   "cell_type": "code",
   "execution_count": 39,
   "metadata": {},
   "outputs": [
    {
     "data": {
      "text/plain": [
       "(150, 16)"
      ]
     },
     "execution_count": 39,
     "metadata": {},
     "output_type": "execute_result"
    }
   ],
   "source": [
    "dataset_array2.shape"
   ]
  },
  {
   "cell_type": "code",
   "execution_count": 40,
   "metadata": {},
   "outputs": [],
   "source": [
    "test_knn = find_k_neighbors(dataset_array2[0], dataset_array2[1:], 4, 15)"
   ]
  },
  {
   "cell_type": "code",
   "execution_count": 41,
   "metadata": {},
   "outputs": [
    {
     "data": {
      "text/plain": [
       "[array([7.3510e+03, 2.0110e+03, 0.0000e+00, 0.0000e+00, 0.0000e+00,\n",
       "        1.0000e+00, 0.0000e+00, 1.0000e+00, 0.0000e+00, 0.0000e+00,\n",
       "        0.0000e+00, 0.0000e+00, 0.0000e+00, 0.0000e+00, 0.0000e+00,\n",
       "        1.9995e+04]),\n",
       " array([7.7840e+03, 2.0100e+03, 0.0000e+00, 1.0000e+00, 0.0000e+00,\n",
       "        0.0000e+00, 1.0000e+00, 0.0000e+00, 0.0000e+00, 0.0000e+00,\n",
       "        0.0000e+00, 0.0000e+00, 0.0000e+00, 0.0000e+00, 0.0000e+00,\n",
       "        1.5499e+04]),\n",
       " array([8.367e+03, 2.012e+03, 0.000e+00, 1.000e+00, 0.000e+00, 0.000e+00,\n",
       "        0.000e+00, 0.000e+00, 0.000e+00, 0.000e+00, 0.000e+00, 1.000e+00,\n",
       "        0.000e+00, 0.000e+00, 0.000e+00, 1.750e+04]),\n",
       " array([9.1990e+03, 2.0110e+03, 0.0000e+00, 0.0000e+00, 1.0000e+00,\n",
       "        0.0000e+00, 0.0000e+00, 1.0000e+00, 0.0000e+00, 0.0000e+00,\n",
       "        0.0000e+00, 0.0000e+00, 0.0000e+00, 0.0000e+00, 0.0000e+00,\n",
       "        1.6992e+04])]"
      ]
     },
     "execution_count": 41,
     "metadata": {},
     "output_type": "execute_result"
    }
   ],
   "source": [
    "test_knn"
   ]
  },
  {
   "cell_type": "code",
   "execution_count": 42,
   "metadata": {},
   "outputs": [],
   "source": [
    "predicted_price_from_test = 0.25 * sum([row[15] for row in test_knn])"
   ]
  },
  {
   "cell_type": "code",
   "execution_count": 43,
   "metadata": {},
   "outputs": [
    {
     "data": {
      "text/plain": [
       "17496.5"
      ]
     },
     "execution_count": 43,
     "metadata": {},
     "output_type": "execute_result"
    }
   ],
   "source": [
    "predicted_price_from_test"
   ]
  },
  {
   "cell_type": "code",
   "execution_count": 44,
   "metadata": {},
   "outputs": [],
   "source": [
    "actual_price = dataset_array2[0][15]"
   ]
  },
  {
   "cell_type": "code",
   "execution_count": 45,
   "metadata": {},
   "outputs": [
    {
     "data": {
      "text/plain": [
       "21992.0"
      ]
     },
     "execution_count": 45,
     "metadata": {},
     "output_type": "execute_result"
    }
   ],
   "source": [
    "actual_price"
   ]
  },
  {
   "cell_type": "code",
   "execution_count": 46,
   "metadata": {},
   "outputs": [],
   "source": [
    "raw_error = actual_price - predicted_price_from_test"
   ]
  },
  {
   "cell_type": "code",
   "execution_count": 47,
   "metadata": {},
   "outputs": [
    {
     "data": {
      "text/plain": [
       "4495.5"
      ]
     },
     "execution_count": 47,
     "metadata": {},
     "output_type": "execute_result"
    }
   ],
   "source": [
    "raw_error"
   ]
  },
  {
   "cell_type": "code",
   "execution_count": null,
   "metadata": {},
   "outputs": [],
   "source": []
  }
 ],
 "metadata": {
  "kernelspec": {
   "display_name": "Python 2",
   "language": "python",
   "name": "python2"
  },
  "language_info": {
   "codemirror_mode": {
    "name": "ipython",
    "version": 2
   },
   "file_extension": ".py",
   "mimetype": "text/x-python",
   "name": "python",
   "nbconvert_exporter": "python",
   "pygments_lexer": "ipython2",
   "version": "2.7.12"
  }
 },
 "nbformat": 4,
 "nbformat_minor": 2
}
